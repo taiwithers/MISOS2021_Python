{
 "cells": [
  {
   "cell_type": "code",
   "execution_count": null,
   "id": "4ee41b2b",
   "metadata": {},
   "outputs": [],
   "source": [
    "%pip install matplotlib numpy scipy\n",
    "\n",
    "import random as r\n",
    "import matplotlib.pyplot as plt\n",
    "import numpy as np\n",
    "import scipy.stats as stats\n",
    "\n",
    "plt.rcParams['figure.figsize'] = 12, 8"
   ]
  },
  {
   "cell_type": "code",
   "execution_count": null,
   "id": "8ed49991",
   "metadata": {},
   "outputs": [],
   "source": [
    "def clt(lotsOfTimes, numRand, save=False):\n",
    "    sums = np.zeros(lotsOfTimes)\n",
    "    bins = np.arange(numRand,10*numRand+1,1)\n",
    "\n",
    "    for i in range(lotsOfTimes):\n",
    "        for x in range(numRand):\n",
    "            sums[i]+= r.randint(1,10)\n",
    "\n",
    "    plt.hist(sums, bins=bins)\n",
    "    plt.xlabel(\"Sums\")\n",
    "    plt.ylabel(\"Counts\")\n",
    "    if save: plt.savefig(str(numRand)+\"var_\"+str(lotsOfTimes))\n",
    "    plt.show()"
   ]
  },
  {
   "cell_type": "code",
   "execution_count": null,
   "id": "f18a8aa5",
   "metadata": {},
   "outputs": [],
   "source": [
    "clt(100,2)"
   ]
  },
  {
   "cell_type": "code",
   "execution_count": null,
   "id": "44498c52",
   "metadata": {},
   "outputs": [],
   "source": [
    "clt(1000,2)"
   ]
  },
  {
   "cell_type": "code",
   "execution_count": null,
   "id": "b3714dcf",
   "metadata": {},
   "outputs": [],
   "source": [
    "clt(1000,5)"
   ]
  },
  {
   "cell_type": "code",
   "execution_count": null,
   "id": "01b4e5b3",
   "metadata": {},
   "outputs": [],
   "source": [
    "clt(1000000,10)"
   ]
  },
  {
   "cell_type": "code",
   "execution_count": null,
   "id": "ba1f8d50",
   "metadata": {},
   "outputs": [],
   "source": [
    "mu = 55\n",
    "sigma = np.sqrt(82.5)\n",
    "\n",
    "x = np.linspace(mu-3*sigma, mu+3*sigma, 100)\n",
    "plt.plot(x, 1000000*stats.norm.pdf(x,mu,sigma) , 'r')\n",
    "\n",
    "clt(1000000,10)"
   ]
  }
 ],
 "metadata": {
  "kernelspec": {
   "display_name": "Python 3",
   "language": "python",
   "name": "python3"
  },
  "language_info": {
   "codemirror_mode": {
    "name": "ipython",
    "version": 3
   },
   "file_extension": ".py",
   "mimetype": "text/x-python",
   "name": "python",
   "nbconvert_exporter": "python",
   "pygments_lexer": "ipython3",
   "version": "3.9.4"
  }
 },
 "nbformat": 4,
 "nbformat_minor": 5
}
