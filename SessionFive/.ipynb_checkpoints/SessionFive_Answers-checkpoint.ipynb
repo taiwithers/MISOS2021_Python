{
 "cells": [
  {
   "cell_type": "markdown",
   "id": "32d2378a",
   "metadata": {},
   "source": [
    "## Loading Data"
   ]
  },
  {
   "cell_type": "markdown",
   "id": "34217de4",
   "metadata": {},
   "source": [
    "When we gather data from whatever instrument we're using it doesn't usually come in the form of numpy array\n",
    "\n",
    "Usually it will be in some kind of plain text\n",
    "\n",
    "We need to figure out how to convert that to an array so we can do our math or graphs"
   ]
  },
  {
   "cell_type": "markdown",
   "id": "fa2d6b0a",
   "metadata": {},
   "source": [
    "One function we're going to learn about here is `numpy.loadtxt` this function opens a text (.txt) file and turns the contents into an array"
   ]
  },
  {
   "cell_type": "code",
   "execution_count": 1,
   "id": "2fb3520c",
   "metadata": {},
   "outputs": [
    {
     "name": "stderr",
     "output_type": "stream",
     "text": [
      "'ls' is not recognized as an internal or external command,\n",
      "operable program or batch file.\n"
     ]
    }
   ],
   "source": [
    "# ====== CELL 1: Viewing Files with Command Line ======\n",
    "\n",
    "# this command lists out all the files in the current directory (folder)\n",
    "! ls"
   ]
  },
  {
   "cell_type": "markdown",
   "id": "1f0ae902",
   "metadata": {},
   "source": [
    "<br><br><br><br><br><br>"
   ]
  },
  {
   "cell_type": "code",
   "execution_count": 2,
   "id": "51766fad",
   "metadata": {},
   "outputs": [
    {
     "name": "stdout",
     "output_type": "stream",
     "text": [
      "4\n",
      "2\n",
      "9\n",
      "2\n",
      "0\n",
      "2\n",
      "2\n",
      "5\n",
      "1\n",
      "0\n"
     ]
    }
   ],
   "source": [
    "# ====== CELL 2: Opening Files with Command Line ======\n",
    "\n",
    "# this command prints out the contents of a file\n",
    "! more basic.txt"
   ]
  },
  {
   "cell_type": "markdown",
   "id": "65d4e540",
   "metadata": {},
   "source": [
    "<br><br><br><br><br><br>"
   ]
  },
  {
   "cell_type": "code",
   "execution_count": 3,
   "id": "745359d3",
   "metadata": {},
   "outputs": [],
   "source": [
    "# ====== CELL 3: Importing NumPy and loadtxt ======\n",
    "\n",
    "# that's not a python array though\n",
    "# let's import numpy\n",
    "# % pip install numpy\n",
    "import numpy as np\n",
    "\n",
    "# and try using loadtxt\n",
    "file = np.loadtxt('basic.txt')"
   ]
  },
  {
   "cell_type": "markdown",
   "id": "8d93e54f",
   "metadata": {},
   "source": [
    "<br><br><br><br><br><br>"
   ]
  },
  {
   "cell_type": "code",
   "execution_count": 4,
   "id": "b0fcd7ab",
   "metadata": {},
   "outputs": [
    {
     "name": "stdout",
     "output_type": "stream",
     "text": [
      "[4. 2. 9. 2. 0. 2. 2. 5. 1. 0.]\n",
      "<class 'numpy.ndarray'>\n"
     ]
    }
   ],
   "source": [
    "# ====== CELL 4: loadtxt Results ======\n",
    "\n",
    "print(file)\n",
    "\n",
    "print(type(file))"
   ]
  },
  {
   "cell_type": "markdown",
   "id": "72e2abb8",
   "metadata": {},
   "source": [
    "<br><br><br><br><br><br>"
   ]
  },
  {
   "cell_type": "code",
   "execution_count": 5,
   "id": "91b3a698",
   "metadata": {},
   "outputs": [
    {
     "ename": "ValueError",
     "evalue": "could not convert string to float: 'time'",
     "output_type": "error",
     "traceback": [
      "\u001b[1;31m---------------------------------------------------------------------------\u001b[0m",
      "\u001b[1;31mValueError\u001b[0m                                Traceback (most recent call last)",
      "\u001b[1;32m<ipython-input-5-5b194db043ea>\u001b[0m in \u001b[0;36m<module>\u001b[1;34m\u001b[0m\n\u001b[0;32m      3\u001b[0m \u001b[1;31m# let's try another file\u001b[0m\u001b[1;33m\u001b[0m\u001b[1;33m\u001b[0m\u001b[1;33m\u001b[0m\u001b[0m\n\u001b[0;32m      4\u001b[0m \u001b[1;33m\u001b[0m\u001b[0m\n\u001b[1;32m----> 5\u001b[1;33m \u001b[0mfile2\u001b[0m \u001b[1;33m=\u001b[0m \u001b[0mnp\u001b[0m\u001b[1;33m.\u001b[0m\u001b[0mloadtxt\u001b[0m\u001b[1;33m(\u001b[0m\u001b[1;34m'headers.txt'\u001b[0m\u001b[1;33m)\u001b[0m\u001b[1;33m\u001b[0m\u001b[1;33m\u001b[0m\u001b[0m\n\u001b[0m",
      "\u001b[1;32mc:\\users\\tai\\appdata\\local\\programs\\python\\python39\\lib\\site-packages\\numpy\\lib\\npyio.py\u001b[0m in \u001b[0;36mloadtxt\u001b[1;34m(fname, dtype, comments, delimiter, converters, skiprows, usecols, unpack, ndmin, encoding, max_rows)\u001b[0m\n\u001b[0;32m   1137\u001b[0m         \u001b[1;31m# converting the data\u001b[0m\u001b[1;33m\u001b[0m\u001b[1;33m\u001b[0m\u001b[1;33m\u001b[0m\u001b[0m\n\u001b[0;32m   1138\u001b[0m         \u001b[0mX\u001b[0m \u001b[1;33m=\u001b[0m \u001b[1;32mNone\u001b[0m\u001b[1;33m\u001b[0m\u001b[1;33m\u001b[0m\u001b[0m\n\u001b[1;32m-> 1139\u001b[1;33m         \u001b[1;32mfor\u001b[0m \u001b[0mx\u001b[0m \u001b[1;32min\u001b[0m \u001b[0mread_data\u001b[0m\u001b[1;33m(\u001b[0m\u001b[0m_loadtxt_chunksize\u001b[0m\u001b[1;33m)\u001b[0m\u001b[1;33m:\u001b[0m\u001b[1;33m\u001b[0m\u001b[1;33m\u001b[0m\u001b[0m\n\u001b[0m\u001b[0;32m   1140\u001b[0m             \u001b[1;32mif\u001b[0m \u001b[0mX\u001b[0m \u001b[1;32mis\u001b[0m \u001b[1;32mNone\u001b[0m\u001b[1;33m:\u001b[0m\u001b[1;33m\u001b[0m\u001b[1;33m\u001b[0m\u001b[0m\n\u001b[0;32m   1141\u001b[0m                 \u001b[0mX\u001b[0m \u001b[1;33m=\u001b[0m \u001b[0mnp\u001b[0m\u001b[1;33m.\u001b[0m\u001b[0marray\u001b[0m\u001b[1;33m(\u001b[0m\u001b[0mx\u001b[0m\u001b[1;33m,\u001b[0m \u001b[0mdtype\u001b[0m\u001b[1;33m)\u001b[0m\u001b[1;33m\u001b[0m\u001b[1;33m\u001b[0m\u001b[0m\n",
      "\u001b[1;32mc:\\users\\tai\\appdata\\local\\programs\\python\\python39\\lib\\site-packages\\numpy\\lib\\npyio.py\u001b[0m in \u001b[0;36mread_data\u001b[1;34m(chunk_size)\u001b[0m\n\u001b[0;32m   1065\u001b[0m \u001b[1;33m\u001b[0m\u001b[0m\n\u001b[0;32m   1066\u001b[0m             \u001b[1;31m# Convert each value according to its column and store\u001b[0m\u001b[1;33m\u001b[0m\u001b[1;33m\u001b[0m\u001b[1;33m\u001b[0m\u001b[0m\n\u001b[1;32m-> 1067\u001b[1;33m             \u001b[0mitems\u001b[0m \u001b[1;33m=\u001b[0m \u001b[1;33m[\u001b[0m\u001b[0mconv\u001b[0m\u001b[1;33m(\u001b[0m\u001b[0mval\u001b[0m\u001b[1;33m)\u001b[0m \u001b[1;32mfor\u001b[0m \u001b[1;33m(\u001b[0m\u001b[0mconv\u001b[0m\u001b[1;33m,\u001b[0m \u001b[0mval\u001b[0m\u001b[1;33m)\u001b[0m \u001b[1;32min\u001b[0m \u001b[0mzip\u001b[0m\u001b[1;33m(\u001b[0m\u001b[0mconverters\u001b[0m\u001b[1;33m,\u001b[0m \u001b[0mvals\u001b[0m\u001b[1;33m)\u001b[0m\u001b[1;33m]\u001b[0m\u001b[1;33m\u001b[0m\u001b[1;33m\u001b[0m\u001b[0m\n\u001b[0m\u001b[0;32m   1068\u001b[0m \u001b[1;33m\u001b[0m\u001b[0m\n\u001b[0;32m   1069\u001b[0m             \u001b[1;31m# Then pack it according to the dtype's nesting\u001b[0m\u001b[1;33m\u001b[0m\u001b[1;33m\u001b[0m\u001b[1;33m\u001b[0m\u001b[0m\n",
      "\u001b[1;32mc:\\users\\tai\\appdata\\local\\programs\\python\\python39\\lib\\site-packages\\numpy\\lib\\npyio.py\u001b[0m in \u001b[0;36m<listcomp>\u001b[1;34m(.0)\u001b[0m\n\u001b[0;32m   1065\u001b[0m \u001b[1;33m\u001b[0m\u001b[0m\n\u001b[0;32m   1066\u001b[0m             \u001b[1;31m# Convert each value according to its column and store\u001b[0m\u001b[1;33m\u001b[0m\u001b[1;33m\u001b[0m\u001b[1;33m\u001b[0m\u001b[0m\n\u001b[1;32m-> 1067\u001b[1;33m             \u001b[0mitems\u001b[0m \u001b[1;33m=\u001b[0m \u001b[1;33m[\u001b[0m\u001b[0mconv\u001b[0m\u001b[1;33m(\u001b[0m\u001b[0mval\u001b[0m\u001b[1;33m)\u001b[0m \u001b[1;32mfor\u001b[0m \u001b[1;33m(\u001b[0m\u001b[0mconv\u001b[0m\u001b[1;33m,\u001b[0m \u001b[0mval\u001b[0m\u001b[1;33m)\u001b[0m \u001b[1;32min\u001b[0m \u001b[0mzip\u001b[0m\u001b[1;33m(\u001b[0m\u001b[0mconverters\u001b[0m\u001b[1;33m,\u001b[0m \u001b[0mvals\u001b[0m\u001b[1;33m)\u001b[0m\u001b[1;33m]\u001b[0m\u001b[1;33m\u001b[0m\u001b[1;33m\u001b[0m\u001b[0m\n\u001b[0m\u001b[0;32m   1068\u001b[0m \u001b[1;33m\u001b[0m\u001b[0m\n\u001b[0;32m   1069\u001b[0m             \u001b[1;31m# Then pack it according to the dtype's nesting\u001b[0m\u001b[1;33m\u001b[0m\u001b[1;33m\u001b[0m\u001b[1;33m\u001b[0m\u001b[0m\n",
      "\u001b[1;32mc:\\users\\tai\\appdata\\local\\programs\\python\\python39\\lib\\site-packages\\numpy\\lib\\npyio.py\u001b[0m in \u001b[0;36mfloatconv\u001b[1;34m(x)\u001b[0m\n\u001b[0;32m    761\u001b[0m         \u001b[1;32mif\u001b[0m \u001b[1;34m'0x'\u001b[0m \u001b[1;32min\u001b[0m \u001b[0mx\u001b[0m\u001b[1;33m:\u001b[0m\u001b[1;33m\u001b[0m\u001b[1;33m\u001b[0m\u001b[0m\n\u001b[0;32m    762\u001b[0m             \u001b[1;32mreturn\u001b[0m \u001b[0mfloat\u001b[0m\u001b[1;33m.\u001b[0m\u001b[0mfromhex\u001b[0m\u001b[1;33m(\u001b[0m\u001b[0mx\u001b[0m\u001b[1;33m)\u001b[0m\u001b[1;33m\u001b[0m\u001b[1;33m\u001b[0m\u001b[0m\n\u001b[1;32m--> 763\u001b[1;33m         \u001b[1;32mreturn\u001b[0m \u001b[0mfloat\u001b[0m\u001b[1;33m(\u001b[0m\u001b[0mx\u001b[0m\u001b[1;33m)\u001b[0m\u001b[1;33m\u001b[0m\u001b[1;33m\u001b[0m\u001b[0m\n\u001b[0m\u001b[0;32m    764\u001b[0m \u001b[1;33m\u001b[0m\u001b[0m\n\u001b[0;32m    765\u001b[0m     \u001b[0mtyp\u001b[0m \u001b[1;33m=\u001b[0m \u001b[0mdtype\u001b[0m\u001b[1;33m.\u001b[0m\u001b[0mtype\u001b[0m\u001b[1;33m\u001b[0m\u001b[1;33m\u001b[0m\u001b[0m\n",
      "\u001b[1;31mValueError\u001b[0m: could not convert string to float: 'time'"
     ]
    }
   ],
   "source": [
    "# ====== CELL 5: Files with Text ======\n",
    "\n",
    "# let's try another file\n",
    "\n",
    "file2 = np.loadtxt('headers.txt')"
   ]
  },
  {
   "cell_type": "markdown",
   "id": "3bdc45fc",
   "metadata": {},
   "source": [
    "<br><br><br><br><br><br>"
   ]
  },
  {
   "cell_type": "code",
   "execution_count": 6,
   "id": "1df48d3d",
   "metadata": {},
   "outputs": [
    {
     "name": "stdout",
     "output_type": "stream",
     "text": [
      "time\n",
      "0\n",
      "0.25\n",
      "0.4\n",
      "0.8\n",
      "0.9\n",
      "1.3\n",
      "1.7\n",
      "2\n",
      "2.5\n"
     ]
    }
   ],
   "source": [
    "# ====== CELL 5: Headers ======\n",
    "\n",
    "# The end of our error message says \"could not convert string to float: 'time'\"\n",
    "# let's take a look at what the file is\n",
    "\n",
    "! more headers.txt"
   ]
  },
  {
   "cell_type": "markdown",
   "id": "f850a5cf",
   "metadata": {},
   "source": [
    "<br><br><br><br><br><br>"
   ]
  },
  {
   "cell_type": "code",
   "execution_count": 7,
   "id": "d5d6ab12",
   "metadata": {},
   "outputs": [
    {
     "name": "stdout",
     "output_type": "stream",
     "text": [
      "[0.   0.25 0.4  0.8  0.9  1.3  1.7  2.   2.5 ]\n"
     ]
    }
   ],
   "source": [
    "# ====== CELL 6: Skiprows ======\n",
    "\n",
    "# loadtxt ONLY accepts numbers\n",
    "# we're going to have to skip that row\n",
    "# luckily this is built right in to loadtxt\n",
    "\n",
    "file2 = np.loadtxt('headers.txt', skiprows=1)\n",
    "\n",
    "print(file2)"
   ]
  },
  {
   "cell_type": "markdown",
   "id": "649c656a",
   "metadata": {},
   "source": [
    "<br><br><br><br><br><br>"
   ]
  },
  {
   "cell_type": "code",
   "execution_count": 8,
   "id": "28cfd7d2",
   "metadata": {},
   "outputs": [
    {
     "name": "stdout",
     "output_type": "stream",
     "text": [
      "time, distance, speed\n",
      "0, 0, 0.5\n",
      "1, 0.5, 0.5\n",
      "2, 1, 1\n",
      "3, 2, 1\n",
      "4, 3, 1\n",
      "5, 4, 1\n",
      "6, 5, 1\n",
      "7, 6, 1\n",
      "8, 7, 1\n",
      "9, 8, 1\n",
      "10, 9, 1\n"
     ]
    }
   ],
   "source": [
    "# ====== CELL 7: Multicolumn Files ======\n",
    "\n",
    "# so this is great if your file is just a list of numbers with a new number on each line\n",
    "# but what if you measured say, distance at a variety of time values\n",
    "# you would have two columns\n",
    "# can loadtxt handle that?\n",
    "\n",
    "# let's take a look at our next file before we start loading it\n",
    "\n",
    "! more multicol.txt"
   ]
  },
  {
   "cell_type": "markdown",
   "id": "df966a37",
   "metadata": {},
   "source": [
    "<br><br><br><br><br><br>"
   ]
  },
  {
   "cell_type": "code",
   "execution_count": 9,
   "id": "14cb667a",
   "metadata": {},
   "outputs": [
    {
     "ename": "ValueError",
     "evalue": "could not convert string to float: '0,'",
     "output_type": "error",
     "traceback": [
      "\u001b[1;31m---------------------------------------------------------------------------\u001b[0m",
      "\u001b[1;31mValueError\u001b[0m                                Traceback (most recent call last)",
      "\u001b[1;32m<ipython-input-9-bb2a6b8db541>\u001b[0m in \u001b[0;36m<module>\u001b[1;34m\u001b[0m\n\u001b[0;32m      3\u001b[0m \u001b[1;31m# we can see we'll need to use skiprows=1\u001b[0m\u001b[1;33m\u001b[0m\u001b[1;33m\u001b[0m\u001b[1;33m\u001b[0m\u001b[0m\n\u001b[0;32m      4\u001b[0m \u001b[1;33m\u001b[0m\u001b[0m\n\u001b[1;32m----> 5\u001b[1;33m \u001b[0mfile3\u001b[0m \u001b[1;33m=\u001b[0m \u001b[0mnp\u001b[0m\u001b[1;33m.\u001b[0m\u001b[0mloadtxt\u001b[0m\u001b[1;33m(\u001b[0m\u001b[1;34m'multicol.txt'\u001b[0m\u001b[1;33m,\u001b[0m\u001b[0mskiprows\u001b[0m\u001b[1;33m=\u001b[0m\u001b[1;36m1\u001b[0m\u001b[1;33m)\u001b[0m\u001b[1;33m\u001b[0m\u001b[1;33m\u001b[0m\u001b[0m\n\u001b[0m",
      "\u001b[1;32mc:\\users\\tai\\appdata\\local\\programs\\python\\python39\\lib\\site-packages\\numpy\\lib\\npyio.py\u001b[0m in \u001b[0;36mloadtxt\u001b[1;34m(fname, dtype, comments, delimiter, converters, skiprows, usecols, unpack, ndmin, encoding, max_rows)\u001b[0m\n\u001b[0;32m   1137\u001b[0m         \u001b[1;31m# converting the data\u001b[0m\u001b[1;33m\u001b[0m\u001b[1;33m\u001b[0m\u001b[1;33m\u001b[0m\u001b[0m\n\u001b[0;32m   1138\u001b[0m         \u001b[0mX\u001b[0m \u001b[1;33m=\u001b[0m \u001b[1;32mNone\u001b[0m\u001b[1;33m\u001b[0m\u001b[1;33m\u001b[0m\u001b[0m\n\u001b[1;32m-> 1139\u001b[1;33m         \u001b[1;32mfor\u001b[0m \u001b[0mx\u001b[0m \u001b[1;32min\u001b[0m \u001b[0mread_data\u001b[0m\u001b[1;33m(\u001b[0m\u001b[0m_loadtxt_chunksize\u001b[0m\u001b[1;33m)\u001b[0m\u001b[1;33m:\u001b[0m\u001b[1;33m\u001b[0m\u001b[1;33m\u001b[0m\u001b[0m\n\u001b[0m\u001b[0;32m   1140\u001b[0m             \u001b[1;32mif\u001b[0m \u001b[0mX\u001b[0m \u001b[1;32mis\u001b[0m \u001b[1;32mNone\u001b[0m\u001b[1;33m:\u001b[0m\u001b[1;33m\u001b[0m\u001b[1;33m\u001b[0m\u001b[0m\n\u001b[0;32m   1141\u001b[0m                 \u001b[0mX\u001b[0m \u001b[1;33m=\u001b[0m \u001b[0mnp\u001b[0m\u001b[1;33m.\u001b[0m\u001b[0marray\u001b[0m\u001b[1;33m(\u001b[0m\u001b[0mx\u001b[0m\u001b[1;33m,\u001b[0m \u001b[0mdtype\u001b[0m\u001b[1;33m)\u001b[0m\u001b[1;33m\u001b[0m\u001b[1;33m\u001b[0m\u001b[0m\n",
      "\u001b[1;32mc:\\users\\tai\\appdata\\local\\programs\\python\\python39\\lib\\site-packages\\numpy\\lib\\npyio.py\u001b[0m in \u001b[0;36mread_data\u001b[1;34m(chunk_size)\u001b[0m\n\u001b[0;32m   1065\u001b[0m \u001b[1;33m\u001b[0m\u001b[0m\n\u001b[0;32m   1066\u001b[0m             \u001b[1;31m# Convert each value according to its column and store\u001b[0m\u001b[1;33m\u001b[0m\u001b[1;33m\u001b[0m\u001b[1;33m\u001b[0m\u001b[0m\n\u001b[1;32m-> 1067\u001b[1;33m             \u001b[0mitems\u001b[0m \u001b[1;33m=\u001b[0m \u001b[1;33m[\u001b[0m\u001b[0mconv\u001b[0m\u001b[1;33m(\u001b[0m\u001b[0mval\u001b[0m\u001b[1;33m)\u001b[0m \u001b[1;32mfor\u001b[0m \u001b[1;33m(\u001b[0m\u001b[0mconv\u001b[0m\u001b[1;33m,\u001b[0m \u001b[0mval\u001b[0m\u001b[1;33m)\u001b[0m \u001b[1;32min\u001b[0m \u001b[0mzip\u001b[0m\u001b[1;33m(\u001b[0m\u001b[0mconverters\u001b[0m\u001b[1;33m,\u001b[0m \u001b[0mvals\u001b[0m\u001b[1;33m)\u001b[0m\u001b[1;33m]\u001b[0m\u001b[1;33m\u001b[0m\u001b[1;33m\u001b[0m\u001b[0m\n\u001b[0m\u001b[0;32m   1068\u001b[0m \u001b[1;33m\u001b[0m\u001b[0m\n\u001b[0;32m   1069\u001b[0m             \u001b[1;31m# Then pack it according to the dtype's nesting\u001b[0m\u001b[1;33m\u001b[0m\u001b[1;33m\u001b[0m\u001b[1;33m\u001b[0m\u001b[0m\n",
      "\u001b[1;32mc:\\users\\tai\\appdata\\local\\programs\\python\\python39\\lib\\site-packages\\numpy\\lib\\npyio.py\u001b[0m in \u001b[0;36m<listcomp>\u001b[1;34m(.0)\u001b[0m\n\u001b[0;32m   1065\u001b[0m \u001b[1;33m\u001b[0m\u001b[0m\n\u001b[0;32m   1066\u001b[0m             \u001b[1;31m# Convert each value according to its column and store\u001b[0m\u001b[1;33m\u001b[0m\u001b[1;33m\u001b[0m\u001b[1;33m\u001b[0m\u001b[0m\n\u001b[1;32m-> 1067\u001b[1;33m             \u001b[0mitems\u001b[0m \u001b[1;33m=\u001b[0m \u001b[1;33m[\u001b[0m\u001b[0mconv\u001b[0m\u001b[1;33m(\u001b[0m\u001b[0mval\u001b[0m\u001b[1;33m)\u001b[0m \u001b[1;32mfor\u001b[0m \u001b[1;33m(\u001b[0m\u001b[0mconv\u001b[0m\u001b[1;33m,\u001b[0m \u001b[0mval\u001b[0m\u001b[1;33m)\u001b[0m \u001b[1;32min\u001b[0m \u001b[0mzip\u001b[0m\u001b[1;33m(\u001b[0m\u001b[0mconverters\u001b[0m\u001b[1;33m,\u001b[0m \u001b[0mvals\u001b[0m\u001b[1;33m)\u001b[0m\u001b[1;33m]\u001b[0m\u001b[1;33m\u001b[0m\u001b[1;33m\u001b[0m\u001b[0m\n\u001b[0m\u001b[0;32m   1068\u001b[0m \u001b[1;33m\u001b[0m\u001b[0m\n\u001b[0;32m   1069\u001b[0m             \u001b[1;31m# Then pack it according to the dtype's nesting\u001b[0m\u001b[1;33m\u001b[0m\u001b[1;33m\u001b[0m\u001b[1;33m\u001b[0m\u001b[0m\n",
      "\u001b[1;32mc:\\users\\tai\\appdata\\local\\programs\\python\\python39\\lib\\site-packages\\numpy\\lib\\npyio.py\u001b[0m in \u001b[0;36mfloatconv\u001b[1;34m(x)\u001b[0m\n\u001b[0;32m    761\u001b[0m         \u001b[1;32mif\u001b[0m \u001b[1;34m'0x'\u001b[0m \u001b[1;32min\u001b[0m \u001b[0mx\u001b[0m\u001b[1;33m:\u001b[0m\u001b[1;33m\u001b[0m\u001b[1;33m\u001b[0m\u001b[0m\n\u001b[0;32m    762\u001b[0m             \u001b[1;32mreturn\u001b[0m \u001b[0mfloat\u001b[0m\u001b[1;33m.\u001b[0m\u001b[0mfromhex\u001b[0m\u001b[1;33m(\u001b[0m\u001b[0mx\u001b[0m\u001b[1;33m)\u001b[0m\u001b[1;33m\u001b[0m\u001b[1;33m\u001b[0m\u001b[0m\n\u001b[1;32m--> 763\u001b[1;33m         \u001b[1;32mreturn\u001b[0m \u001b[0mfloat\u001b[0m\u001b[1;33m(\u001b[0m\u001b[0mx\u001b[0m\u001b[1;33m)\u001b[0m\u001b[1;33m\u001b[0m\u001b[1;33m\u001b[0m\u001b[0m\n\u001b[0m\u001b[0;32m    764\u001b[0m \u001b[1;33m\u001b[0m\u001b[0m\n\u001b[0;32m    765\u001b[0m     \u001b[0mtyp\u001b[0m \u001b[1;33m=\u001b[0m \u001b[0mdtype\u001b[0m\u001b[1;33m.\u001b[0m\u001b[0mtype\u001b[0m\u001b[1;33m\u001b[0m\u001b[1;33m\u001b[0m\u001b[0m\n",
      "\u001b[1;31mValueError\u001b[0m: could not convert string to float: '0,'"
     ]
    }
   ],
   "source": [
    "# ====== CELL 8: Multicolumn Files ======\n",
    "\n",
    "# we can see we'll need to use skiprows=1\n",
    "\n",
    "file3 = np.loadtxt('multicol.txt',skiprows=1)"
   ]
  },
  {
   "cell_type": "markdown",
   "id": "f1f63d2f",
   "metadata": {},
   "source": [
    "<br><br><br><br><br><br>"
   ]
  },
  {
   "cell_type": "code",
   "execution_count": 10,
   "id": "50df0ad5",
   "metadata": {},
   "outputs": [
    {
     "name": "stdout",
     "output_type": "stream",
     "text": [
      "[[ 0.   0.   0.5]\n",
      " [ 1.   0.5  0.5]\n",
      " [ 2.   1.   1. ]\n",
      " [ 3.   2.   1. ]\n",
      " [ 4.   3.   1. ]\n",
      " [ 5.   4.   1. ]\n",
      " [ 6.   5.   1. ]\n",
      " [ 7.   6.   1. ]\n",
      " [ 8.   7.   1. ]\n",
      " [ 9.   8.   1. ]\n",
      " [10.   9.   1. ]]\n"
     ]
    }
   ],
   "source": [
    "# ====== CELL 9: Delimiters ======\n",
    "\n",
    "# Our error is complaining that '0,' cannot be converted to a float\n",
    "# Lots of data files use commas to separate the different values\n",
    "# We need to tell numpy that a comma is just a separator for the different columns\n",
    "\n",
    "file3 = np.loadtxt('multicol.txt', skiprows=1 , delimiter=',')\n",
    "\n",
    "print(file3)"
   ]
  },
  {
   "cell_type": "markdown",
   "id": "4b7090a5",
   "metadata": {},
   "source": [
    "<br><br><br><br><br><br>"
   ]
  },
  {
   "cell_type": "code",
   "execution_count": 11,
   "id": "6919b997",
   "metadata": {},
   "outputs": [
    {
     "name": "stdout",
     "output_type": "stream",
     "text": [
      "[[ 0.   1.   2.   3.   4.   5.   6.   7.   8.   9.  10. ]\n",
      " [ 0.   0.5  1.   2.   3.   4.   5.   6.   7.   8.   9. ]\n",
      " [ 0.5  0.5  1.   1.   1.   1.   1.   1.   1.   1.   1. ]]\n"
     ]
    }
   ],
   "source": [
    "# ====== CELL 10: Unpack ======\n",
    "\n",
    "# looks like numpy made an array from each row rather than each column\n",
    "# we want an array of times, and array of distances, and an array of speeds\n",
    "# we're going to add one more parameter to loadtxt\n",
    "\n",
    "file3 = np.loadtxt('multicol.txt', skiprows=1 , delimiter=',', unpack=True)\n",
    "\n",
    "print(file3)"
   ]
  },
  {
   "cell_type": "markdown",
   "id": "b926ad4f",
   "metadata": {},
   "source": [
    "<br><br><br><br><br><br>"
   ]
  },
  {
   "cell_type": "code",
   "execution_count": 12,
   "id": "49caa21e",
   "metadata": {},
   "outputs": [
    {
     "name": "stdout",
     "output_type": "stream",
     "text": [
      "[ 0.  1.  2.  3.  4.  5.  6.  7.  8.  9. 10.]\n",
      "[0.  0.5 1.  2.  3.  4.  5.  6.  7.  8.  9. ]\n",
      "[0.5 0.5 1.  1.  1.  1.  1.  1.  1.  1.  1. ]\n"
     ]
    }
   ],
   "source": [
    "# ======= CELL 11: Data ======\n",
    "\n",
    "# unpack the file into arrays\n",
    "times = file3[0]\n",
    "distances = file3[1]\n",
    "speeds = file3[2]\n",
    "\n",
    "# check the arrays\n",
    "print(times)\n",
    "print(distances)\n",
    "print(speeds)"
   ]
  },
  {
   "cell_type": "markdown",
   "id": "2bb21f39",
   "metadata": {},
   "source": [
    "<br><br><br><br><br><br>"
   ]
  },
  {
   "cell_type": "code",
   "execution_count": 13,
   "id": "42cb4a12",
   "metadata": {},
   "outputs": [],
   "source": [
    "# ======= CELL 12: MatPlotLib Setup======\n",
    "\n",
    "# install the libraries needed for plotting\n",
    "#% pip install matplotlib\n",
    "import matplotlib.pyplot as plt\n",
    "\n",
    "# change the default plot size\n",
    "plt.rcParams['figure.figsize'] = 12,8"
   ]
  },
  {
   "cell_type": "markdown",
   "id": "e27cc61f",
   "metadata": {},
   "source": [
    "<br><br><br><br><br><br>"
   ]
  },
  {
   "cell_type": "code",
   "execution_count": 14,
   "id": "94263156",
   "metadata": {},
   "outputs": [
    {
     "data": {
      "image/png": "[encoded data removed]",
      "text/plain": [
       "<Figure size 864x576 with 1 Axes>"
      ]
     },
     "metadata": {
      "needs_background": "light"
     },
     "output_type": "display_data"
    }
   ],
   "source": [
    "# ======= CELL 12: Plotting Speed and Distance ======\n",
    "\n",
    "plt.plot(times, distances, label=\"Distance [m]\")\n",
    "plt.plot(times, speeds, label=\"Speed [m/s]\")\n",
    "\n",
    "plt.xlabel(\"Time [s]\")\n",
    "plt.ylabel(\"Value\")\n",
    "\n",
    "plt.legend()\n",
    "plt.grid() # new! just shows the grid\n",
    "plt.show()"
   ]
  },
  {
   "cell_type": "markdown",
   "id": "a73bde83",
   "metadata": {},
   "source": [
    "<br><br><br><br><br><br>"
   ]
  },
  {
   "cell_type": "code",
   "execution_count": 15,
   "id": "43dd2bb6",
   "metadata": {},
   "outputs": [
    {
     "name": "stdout",
     "output_type": "stream",
     "text": [
      "time, timeError, distance, distanceError, speed\n",
      "0, 0.1, 0, 0.5, 0.5\n",
      "1, 0.1, 0.5, 0.5, 0.5\n",
      "2, 0.1, 1, 0.5, 1\n",
      "3, 0.1, 2, 0.5, 1\n",
      "4, 0.1, 3, 0.5, 1\n",
      "5, 0.1, 4, 0.5, 1\n",
      "6, 0.1, 5, 0.5, 1\n",
      "7, 0.1, 6, 0.5, 1\n",
      "8, 0.1, 7, 0.5, 1\n",
      "9, 0.1, 8, 0.5, 1\n",
      "10, 0.1, 9, 0.5, 1\n"
     ]
    }
   ],
   "source": [
    "# ======= CELL 13: Viewing the Error File ======\n",
    "\n",
    "! more errors.txt"
   ]
  },
  {
   "cell_type": "markdown",
   "id": "86cc6a9b",
   "metadata": {},
   "source": [
    "<br><br><br><br><br><br>"
   ]
  },
  {
   "cell_type": "code",
   "execution_count": 16,
   "id": "0b412b11",
   "metadata": {},
   "outputs": [],
   "source": [
    "# ======= CELL 14: Load in Error Data ======\n",
    "\n",
    "file4 = np.loadtxt('errors.txt', skiprows=1 , delimiter=',', unpack=True)\n",
    "\n",
    "# unpack into arrays\n",
    "times = file4[0]\n",
    "timeError = file4[1]\n",
    "distances = file4[2]\n",
    "distanceError = file4[3]\n",
    "speed = file4[4]"
   ]
  },
  {
   "cell_type": "markdown",
   "id": "c4e20031",
   "metadata": {},
   "source": [
    "<br><br><br><br><br><br>"
   ]
  },
  {
   "cell_type": "code",
   "execution_count": 17,
   "id": "cec32066",
   "metadata": {},
   "outputs": [
    {
     "data": {
      "image/png": "[encoded data removed]",
      "text/plain": [
       "<Figure size 864x576 with 1 Axes>"
      ]
     },
     "metadata": {
      "needs_background": "light"
     },
     "output_type": "display_data"
    }
   ],
   "source": [
    "# ======= CELL 15: Plotting with Errorbars ======\n",
    "\n",
    "plt.errorbar(times, distances, xerr=timeError, yerr=distanceError,fmt='o',label=\"Distance [m]\")\n",
    "plt.errorbar(times, speeds, xerr=timeError,fmt='^',label=\"Speed [m/s]\")\n",
    "\n",
    "plt.xlabel(\"Time [s]\")\n",
    "plt.ylabel(\"Value\")\n",
    "\n",
    "plt.grid()\n",
    "plt.legend()\n",
    "plt.show()"
   ]
  },
  {
   "cell_type": "markdown",
   "id": "4d85c432",
   "metadata": {},
   "source": [
    "## What about the error on the speed?\n",
    "<br><br><br><br><br><br>\n",
    "## We have to calculate that!\n",
    "<br><br><br><br><br><br>\n",
    "$$v = \\frac{\\Delta \\text{distance}}{\\Delta\\text{time}}$$\n",
    "\n",
    "Since our device measures speed for us and we didn't calculate it we'll omit the deltas and just use the speed and distance arrays\n",
    "\n",
    "$$ \\frac{\\delta v}{v} = \\sqrt{\\left(\\frac{\\delta\\text{distance}}{\\text{distance}}\\right)^2+\\left(\\frac{\\delta\\text{time}}{\\text{time}}\\right)^2}$$\n",
    "\n",
    "$$ \\delta v = v \\times \\sqrt{\\left(\\frac{\\delta\\text{distance}}{\\text{distance}}\\right)^2+\\left(\\frac{\\delta\\text{time}}{\\text{time}}\\right)^2}$$"
   ]
  },
  {
   "cell_type": "code",
   "execution_count": 18,
   "id": "bcb96b04",
   "metadata": {},
   "outputs": [
    {
     "name": "stderr",
     "output_type": "stream",
     "text": [
      "<ipython-input-18-0ec9ac1bd858>:6: RuntimeWarning: divide by zero encountered in double_scalars\n",
      "  distancePart = distanceError[i] / distances[i] # calculate the first fraction\n",
      "<ipython-input-18-0ec9ac1bd858>:7: RuntimeWarning: divide by zero encountered in double_scalars\n",
      "  speedPart = timeError[i] / times[i] # and the second fraction\n"
     ]
    }
   ],
   "source": [
    "# ======= CELL 16: Calculating Speed Error ======\n",
    "\n",
    "speedError = [] \n",
    "\n",
    "for i in range(len(speed)): # for every speed value\n",
    "    distancePart = distanceError[i] / distances[i] # calculate the first fraction\n",
    "    speedPart = timeError[i] / times[i] # and the second fraction\n",
    "    \n",
    "    factor = np.sqrt(distancePart**2 + speedPart**2) # combine them under the square root\n",
    "\n",
    "    speedError.append(speed[i]*factor) # multiply and append to the speedError list\n"
   ]
  },
  {
   "cell_type": "markdown",
   "id": "30903150",
   "metadata": {},
   "source": [
    "<br><br><br><br><br><br>"
   ]
  },
  {
   "cell_type": "code",
   "execution_count": 19,
   "id": "b4250734",
   "metadata": {},
   "outputs": [
    {
     "name": "stdout",
     "output_type": "stream",
     "text": [
      "[0.5024937810560445, 0.5024937810560445, 0.2522124325070259, 0.1685312368013057, 0.12658988901172163, 0.10137937550497034, 0.08454895668840334, 0.0725140732294534, 0.06347997156681355]\n"
     ]
    }
   ],
   "source": [
    "# ======= CELL 17: Calculating Speed Error Pt 2======\n",
    "\n",
    "speedError = [] \n",
    "\n",
    "for i in range(1,len(speed)): # new! starting at 1!\n",
    "    distancePart = distanceError[i] / distances[i]\n",
    "    timePart = timeError[i] / times[i]\n",
    "    \n",
    "    factor = np.sqrt(distancePart**2 + speedPart**2)\n",
    "\n",
    "    speedError.append(speed[i]*factor)\n",
    "    \n",
    "print(speedError) # very small! would not show up on graph"
   ]
  }
 ],
 "metadata": {
  "kernelspec": {
   "display_name": "Python 3",
   "language": "python",
   "name": "python3"
  },
  "language_info": {
   "codemirror_mode": {
    "name": "ipython",
    "version": 3
   },
   "file_extension": ".py",
   "mimetype": "text/x-python",
   "name": "python",
   "nbconvert_exporter": "python",
   "pygments_lexer": "ipython3",
   "version": "3.9.4"
  }
 },
 "nbformat": 4,
 "nbformat_minor": 5
}
