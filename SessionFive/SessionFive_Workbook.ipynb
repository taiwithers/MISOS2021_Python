{
 "cells": [
  {
   "cell_type": "markdown",
   "id": "32d2378a",
   "metadata": {},
   "source": [
    "## Loading Data"
   ]
  },
  {
   "cell_type": "markdown",
   "id": "34217de4",
   "metadata": {},
   "source": [
    "When we gather data from whatever instrument we're using it doesn't usually come in the form of numpy array\n",
    "\n",
    "Usually it will be in some kind of plain text\n",
    "\n",
    "We need to figure out how to convert that to an array so we can do our math or graphs"
   ]
  },
  {
   "cell_type": "markdown",
   "id": "fa2d6b0a",
   "metadata": {},
   "source": [
    "One function we're going to learn about here is `numpy.loadtxt` this function opens a text (.txt) file and turns the contents into an array"
   ]
  },
  {
   "cell_type": "code",
   "execution_count": null,
   "id": "2fb3520c",
   "metadata": {},
   "outputs": [],
   "source": [
    "# ====== CELL 1: Viewing Files with Command Line ======\n",
    "\n",
    "# this command lists out all the files in the current directory (folder)\n"
   ]
  },
  {
   "cell_type": "markdown",
   "id": "1f0ae902",
   "metadata": {},
   "source": [
    "<br><br><br><br><br><br>"
   ]
  },
  {
   "cell_type": "code",
   "execution_count": null,
   "id": "51766fad",
   "metadata": {},
   "outputs": [],
   "source": [
    "# ====== CELL 2: Opening Files with Command Line ======\n",
    "\n",
    "# this command prints out the contents of a file\n"
   ]
  },
  {
   "cell_type": "markdown",
   "id": "65d4e540",
   "metadata": {},
   "source": [
    "<br><br><br><br><br><br>"
   ]
  },
  {
   "cell_type": "code",
   "execution_count": null,
   "id": "745359d3",
   "metadata": {},
   "outputs": [],
   "source": [
    "# ====== CELL 3: Importing NumPy and loadtxt ======\n",
    "\n",
    "# that's not a python array though\n",
    "# let's import numpy\n",
    "% pip install numpy\n",
    "import numpy as np\n",
    "\n",
    "# and try using loadtxt\n"
   ]
  },
  {
   "cell_type": "markdown",
   "id": "8d93e54f",
   "metadata": {},
   "source": [
    "<br><br><br><br><br><br>"
   ]
  },
  {
   "cell_type": "code",
   "execution_count": null,
   "id": "b0fcd7ab",
   "metadata": {},
   "outputs": [],
   "source": [
    "# ====== CELL 4: loadtxt Results ======\n",
    "\n"
   ]
  },
  {
   "cell_type": "markdown",
   "id": "72e2abb8",
   "metadata": {},
   "source": [
    "<br><br><br><br><br><br>"
   ]
  },
  {
   "cell_type": "code",
   "execution_count": null,
   "id": "91b3a698",
   "metadata": {},
   "outputs": [],
   "source": [
    "# ====== CELL 5: Files with Text ======\n",
    "\n",
    "# let's try another file\n"
   ]
  },
  {
   "cell_type": "markdown",
   "id": "3bdc45fc",
   "metadata": {},
   "source": [
    "<br><br><br><br><br><br>"
   ]
  },
  {
   "cell_type": "code",
   "execution_count": null,
   "id": "1df48d3d",
   "metadata": {},
   "outputs": [],
   "source": [
    "# ====== CELL 5: Headers ======\n",
    "\n",
    "# The end of our error message says \"could not convert string to float: 'time'\"\n",
    "# let's take a look at what the file is\n",
    "\n"
   ]
  },
  {
   "cell_type": "markdown",
   "id": "f850a5cf",
   "metadata": {},
   "source": [
    "<br><br><br><br><br><br>"
   ]
  },
  {
   "cell_type": "code",
   "execution_count": null,
   "id": "d5d6ab12",
   "metadata": {},
   "outputs": [],
   "source": [
    "# ====== CELL 6: Skiprows ======\n",
    "\n",
    "# loadtxt ONLY accepts numbers\n",
    "# we're going to have to skip that row\n",
    "# luckily this is built right in to loadtxt\n",
    "\n"
   ]
  },
  {
   "cell_type": "markdown",
   "id": "649c656a",
   "metadata": {},
   "source": [
    "<br><br><br><br><br><br>"
   ]
  },
  {
   "cell_type": "code",
   "execution_count": null,
   "id": "28cfd7d2",
   "metadata": {},
   "outputs": [],
   "source": [
    "# ====== CELL 7: Multicolumn Files ======\n",
    "\n",
    "# so this is great if your file is just a list of numbers with a new number on each line\n",
    "# but what if you measured say, distance at a variety of time values\n",
    "# you would have two columns\n",
    "# can loadtxt handle that?\n",
    "\n",
    "# let's take a look at our next file before we start loading it\n",
    "\n"
   ]
  },
  {
   "cell_type": "markdown",
   "id": "df966a37",
   "metadata": {},
   "source": [
    "<br><br><br><br><br><br>"
   ]
  },
  {
   "cell_type": "code",
   "execution_count": null,
   "id": "14cb667a",
   "metadata": {},
   "outputs": [],
   "source": [
    "# ====== CELL 8: Multicolumn Files ======\n",
    "\n",
    "# we can see we'll need to use skiprows=1\n",
    "\n"
   ]
  },
  {
   "cell_type": "markdown",
   "id": "f1f63d2f",
   "metadata": {},
   "source": [
    "<br><br><br><br><br><br>"
   ]
  },
  {
   "cell_type": "code",
   "execution_count": null,
   "id": "50df0ad5",
   "metadata": {},
   "outputs": [],
   "source": [
    "# ====== CELL 9: Delimiters ======\n",
    "\n",
    "# Our error is complaining that '0,' cannot be converted to a float\n",
    "# Lots of data files use commas to separate the different values\n",
    "# We need to tell numpy that a comma is just a separator for the different columns\n",
    "\n"
   ]
  },
  {
   "cell_type": "markdown",
   "id": "4b7090a5",
   "metadata": {},
   "source": [
    "<br><br><br><br><br><br>"
   ]
  },
  {
   "cell_type": "code",
   "execution_count": null,
   "id": "6919b997",
   "metadata": {},
   "outputs": [],
   "source": [
    "# ====== CELL 10: Unpack ======\n",
    "\n",
    "# looks like numpy made an array from each row rather than each column\n",
    "# we want an array of times, and array of distances, and an array of speeds\n",
    "# we're going to add one more parameter to loadtxt\n",
    "\n"
   ]
  },
  {
   "cell_type": "markdown",
   "id": "b926ad4f",
   "metadata": {},
   "source": [
    "<br><br><br><br><br><br>"
   ]
  },
  {
   "cell_type": "code",
   "execution_count": null,
   "id": "49caa21e",
   "metadata": {},
   "outputs": [],
   "source": [
    "# ======= CELL 11: Data ======\n",
    "\n"
   ]
  },
  {
   "cell_type": "markdown",
   "id": "2bb21f39",
   "metadata": {},
   "source": [
    "<br><br><br><br><br><br>"
   ]
  },
  {
   "cell_type": "code",
   "execution_count": null,
   "id": "42cb4a12",
   "metadata": {},
   "outputs": [],
   "source": [
    "# ======= CELL 12: MatPlotLib Setup======\n",
    "\n",
    "# install the libraries needed for plotting\n",
    "% pip install matplotlib\n",
    "import matplotlib.pyplot as plt\n",
    "\n",
    "# change the default plot size\n",
    "plt.rcParams['figure.figsize'] = 12,8"
   ]
  },
  {
   "cell_type": "markdown",
   "id": "e27cc61f",
   "metadata": {},
   "source": [
    "<br><br><br><br><br><br>"
   ]
  },
  {
   "cell_type": "code",
   "execution_count": null,
   "id": "94263156",
   "metadata": {},
   "outputs": [],
   "source": [
    "# ======= CELL 12: Plotting Speed and Distance ======\n",
    "\n"
   ]
  },
  {
   "cell_type": "markdown",
   "id": "a73bde83",
   "metadata": {},
   "source": [
    "<br><br><br><br><br><br>"
   ]
  },
  {
   "cell_type": "code",
   "execution_count": null,
   "id": "43dd2bb6",
   "metadata": {},
   "outputs": [],
   "source": [
    "# ======= CELL 13: Viewing the Error File ======\n",
    "\n"
   ]
  },
  {
   "cell_type": "markdown",
   "id": "86cc6a9b",
   "metadata": {},
   "source": [
    "<br><br><br><br><br><br>"
   ]
  },
  {
   "cell_type": "code",
   "execution_count": null,
   "id": "0b412b11",
   "metadata": {},
   "outputs": [],
   "source": [
    "# ======= CELL 14: Load in Error Data ======\n",
    "\n"
   ]
  },
  {
   "cell_type": "markdown",
   "id": "c4e20031",
   "metadata": {},
   "source": [
    "<br><br><br><br><br><br>"
   ]
  },
  {
   "cell_type": "code",
   "execution_count": null,
   "id": "cec32066",
   "metadata": {},
   "outputs": [],
   "source": [
    "# ======= CELL 15: Plotting with Errorbars ======\n",
    "\n"
   ]
  },
  {
   "cell_type": "markdown",
   "id": "4d85c432",
   "metadata": {},
   "source": [
    "## What about the error on the speed?\n",
    "<br><br><br><br><br><br>\n",
    "## We have to calculate that!\n",
    "<br><br><br><br><br><br>\n",
    "$$v = \\frac{\\Delta \\text{distance}}{\\Delta\\text{time}}$$\n",
    "\n",
    "Since our device measures speed for us and we didn't calculate it we'll omit the deltas and just use the speed and distance arrays\n",
    "\n",
    "$$ \\frac{\\delta v}{v} = \\sqrt{\\left(\\frac{\\delta\\text{distance}}{\\text{distance}}\\right)^2+\\left(\\frac{\\delta\\text{time}}{\\text{time}}\\right)^2}$$\n",
    "\n",
    "$$ \\delta v = v \\times \\sqrt{\\left(\\frac{\\delta\\text{distance}}{\\text{distance}}\\right)^2+\\left(\\frac{\\delta\\text{time}}{\\text{time}}\\right)^2}$$"
   ]
  },
  {
   "cell_type": "code",
   "execution_count": null,
   "id": "bcb96b04",
   "metadata": {},
   "outputs": [],
   "source": [
    "# ======= CELL 16: Calculating Speed Error ======\n",
    "\n"
   ]
  },
  {
   "cell_type": "markdown",
   "id": "30903150",
   "metadata": {},
   "source": [
    "<br><br><br><br><br><br>"
   ]
  },
  {
   "cell_type": "code",
   "execution_count": null,
   "id": "b4250734",
   "metadata": {},
   "outputs": [],
   "source": [
    "# ======= CELL 17: Calculating Speed Error Pt 2======\n",
    "\n"
   ]
  }
 ],
 "metadata": {
  "kernelspec": {
   "display_name": "Python 3",
   "language": "python",
   "name": "python3"
  },
  "language_info": {
   "codemirror_mode": {
    "name": "ipython",
    "version": 3
   },
   "file_extension": ".py",
   "mimetype": "text/x-python",
   "name": "python",
   "nbconvert_exporter": "python",
   "pygments_lexer": "ipython3",
   "version": "3.9.4"
  }
 },
 "nbformat": 4,
 "nbformat_minor": 5
}
