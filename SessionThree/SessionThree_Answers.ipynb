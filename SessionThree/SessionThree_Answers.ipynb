{
 "cells": [
  {
   "cell_type": "markdown",
   "id": "2559c167",
   "metadata": {},
   "source": [
    "### Python Part 3\n",
    "So far we have a bunch of data types and a bunch of mathematical operations\n",
    "\n",
    "This is great! Physicists do a lot of simulations that boil down to \"doing mathematical operations on data types\".\n",
    "\n",
    "But what about when you want to do a particular thing over and over?\n",
    "Should you write out the math over and over again?\n",
    "Of course not!\n",
    "\n",
    "Use a loop!"
   ]
  },
  {
   "cell_type": "markdown",
   "id": "8784bc61",
   "metadata": {},
   "source": [
    "<br><br><br><br><br><br>\n",
    "### For loops\n",
    "\n",
    "For loops are pretty simple, they tell a computer to do *this* set of instructions *that* many times. \n",
    "\n",
    "There's one function you'll use a lot in for loops called `range()` which is basically a counter\n",
    "\n",
    "`range` takes at least one, and up to three arguments (or parameters)\n",
    "\n",
    "You use it like this: `range(start, stop, step)` `start` and `step` are optional\n",
    "\n",
    "<br><br><br>\n",
    "`range(stop)` counts from 0 to whatever number you said to stop at minus one\n",
    "\n",
    "`range(start, stop)` counts from `start` to whatever number you said to stop at at minus one\n",
    "\n",
    "`range(start, stop, step)` counts from `start` to `stop-1` in jumps of `step`\n",
    "\n",
    "Let's try it out on some for loops\n",
    "<br><br><br>"
   ]
  },
  {
   "cell_type": "code",
   "execution_count": 1,
   "id": "6db6ddee",
   "metadata": {},
   "outputs": [
    {
     "name": "stdout",
     "output_type": "stream",
     "text": [
      "Hello\n",
      "Hello\n",
      "Hello\n",
      "Hello\n",
      "Hello\n"
     ]
    }
   ],
   "source": [
    "# ====== CELL 1: For Loops ======\n",
    "\n",
    "# try to guess the output of the cell before you run it\n",
    "\n",
    "for counter in range(5):\n",
    "    print(\"Hello\")"
   ]
  },
  {
   "cell_type": "markdown",
   "id": "5bfb8298",
   "metadata": {},
   "source": [
    "<br><br><br><br><br><br>"
   ]
  },
  {
   "cell_type": "code",
   "execution_count": 2,
   "id": "055f8c84",
   "metadata": {},
   "outputs": [
    {
     "name": "stdout",
     "output_type": "stream",
     "text": [
      "0\n",
      "1\n",
      "2\n",
      "3\n",
      "4\n"
     ]
    }
   ],
   "source": [
    "# ====== CELL 2: For Loops Cont'd ======\n",
    "\n",
    "# try to guess the output of the cell before you run it\n",
    "\n",
    "for counter in range(5):\n",
    "    print(counter)"
   ]
  },
  {
   "cell_type": "markdown",
   "id": "b5776a18",
   "metadata": {},
   "source": [
    "<br><br><br><br><br><br>"
   ]
  },
  {
   "cell_type": "code",
   "execution_count": 3,
   "id": "4dd9da58",
   "metadata": {},
   "outputs": [
    {
     "name": "stdout",
     "output_type": "stream",
     "text": [
      "4\n"
     ]
    }
   ],
   "source": [
    "# ====== CELL 3: Range ======\n",
    "\n",
    "# try to guess the output of the cell before you run it\n",
    "\n",
    "for counter in range(4,5):\n",
    "    print(counter)"
   ]
  },
  {
   "cell_type": "markdown",
   "id": "9d1807af",
   "metadata": {},
   "source": [
    "<br><br><br><br><br><br>"
   ]
  },
  {
   "cell_type": "code",
   "execution_count": 4,
   "id": "b8414b29",
   "metadata": {},
   "outputs": [
    {
     "name": "stdout",
     "output_type": "stream",
     "text": [
      "2\n",
      "4\n",
      "6\n",
      "8\n",
      "10\n"
     ]
    }
   ],
   "source": [
    "# ====== CELL 4: Range with Step ======\n",
    "\n",
    "# How can you use a for loop to print out only the even numbers from 1 to 10?\n",
    "# Don't forget the colon and to indent after the for statement (syntax!)\n",
    "\n",
    "for counter in range(2,11,2):\n",
    "    print(counter)"
   ]
  },
  {
   "cell_type": "markdown",
   "id": "621078d2",
   "metadata": {},
   "source": [
    "<br><br><br><br><br><br><br><br>\n",
    "\n",
    "Now we'll try using for loops in combination with arrays."
   ]
  },
  {
   "cell_type": "code",
   "execution_count": 5,
   "id": "6768ac73",
   "metadata": {},
   "outputs": [],
   "source": [
    "# ====== CELL 5: Make an Array ======\n",
    "\n",
    "# first let's make an array\n",
    "%pip install numpy\n",
    "import numpy as np\n",
    "\n",
    "sample = np.ones(10)"
   ]
  },
  {
   "cell_type": "markdown",
   "id": "586aeb86",
   "metadata": {},
   "source": [
    "<br><br><br><br><br><br>"
   ]
  },
  {
   "cell_type": "code",
   "execution_count": 6,
   "id": "aa77a8b0",
   "metadata": {},
   "outputs": [
    {
     "name": "stdout",
     "output_type": "stream",
     "text": [
      "10\n"
     ]
    }
   ],
   "source": [
    "# ====== CELL 6: Array Length Function ======\n",
    "\n",
    "# there's a function called length which tells us how long an array is\n",
    "# let's double check that sample is 10 elements long\n",
    "print(len(sample))"
   ]
  },
  {
   "cell_type": "markdown",
   "id": "94517cd2",
   "metadata": {},
   "source": [
    "<br><br><br><br><br><br>"
   ]
  },
  {
   "cell_type": "markdown",
   "id": "fe4cd257",
   "metadata": {},
   "source": [
    "Let's build a for loop that does more than just print things.\n",
    "\n",
    "This for loop will go along an array and change every element"
   ]
  },
  {
   "cell_type": "markdown",
   "id": "f61ed1a2",
   "metadata": {},
   "source": [
    "<br><br><br><br><br><br>"
   ]
  },
  {
   "cell_type": "code",
   "execution_count": 7,
   "id": "a608ef3d",
   "metadata": {},
   "outputs": [],
   "source": [
    "# ====== CELL 7: Array Length Variable ======\n",
    "\n",
    "# the if the loop goes through every element of the array\n",
    "# then the range should be the length of the array\n",
    "# complete the variable to be the length of sample\n",
    "\n",
    "loopTimes = len(sample)"
   ]
  },
  {
   "cell_type": "markdown",
   "id": "c6864227",
   "metadata": {},
   "source": [
    "<br><br><br><br><br><br>"
   ]
  },
  {
   "cell_type": "code",
   "execution_count": 8,
   "id": "78a42f8d",
   "metadata": {},
   "outputs": [],
   "source": [
    "# ====== CELL 8: For Loops on Arrays ======\n",
    "\n",
    "# to access each element of the array we need to call it by index\n",
    "# we will use the \"counter\" variable of the for loop as the index\n",
    "\n",
    "# for this example we will add the value of counter to each array element\n",
    "\n",
    "for counter in range(loopTimes):\n",
    "    sample[counter] += counter # += says take the thing on the left, and add the thing on the right"
   ]
  },
  {
   "cell_type": "markdown",
   "id": "30146bf2",
   "metadata": {},
   "source": [
    "<br><br><br><br><br><br>"
   ]
  },
  {
   "cell_type": "code",
   "execution_count": 9,
   "id": "861e40ab",
   "metadata": {},
   "outputs": [
    {
     "name": "stdout",
     "output_type": "stream",
     "text": [
      "[ 1.  2.  3.  4.  5.  6.  7.  8.  9. 10.]\n"
     ]
    }
   ],
   "source": [
    "# ====== CELL 9: Check Results ======\n",
    "\n",
    "print(sample)"
   ]
  },
  {
   "cell_type": "markdown",
   "id": "87844b19",
   "metadata": {},
   "source": [
    "<br><br><br><br><br><br>"
   ]
  },
  {
   "cell_type": "code",
   "execution_count": 10,
   "id": "a97e8f02",
   "metadata": {},
   "outputs": [
    {
     "name": "stdout",
     "output_type": "stream",
     "text": [
      "Counter is: 0\n",
      "Sample at index 0 is 1.0\n",
      "Sample at index 0 is now 1.0 \n",
      "\n",
      "Counter is: 1\n",
      "Sample at index 1 is 1.0\n",
      "Sample at index 1 is now 2.0 \n",
      "\n",
      "Counter is: 2\n",
      "Sample at index 2 is 1.0\n",
      "Sample at index 2 is now 3.0 \n",
      "\n",
      "Counter is: 3\n",
      "Sample at index 3 is 1.0\n",
      "Sample at index 3 is now 4.0 \n",
      "\n",
      "Counter is: 4\n",
      "Sample at index 4 is 1.0\n",
      "Sample at index 4 is now 5.0 \n",
      "\n",
      "Counter is: 5\n",
      "Sample at index 5 is 1.0\n",
      "Sample at index 5 is now 6.0 \n",
      "\n",
      "Counter is: 6\n",
      "Sample at index 6 is 1.0\n",
      "Sample at index 6 is now 7.0 \n",
      "\n",
      "Counter is: 7\n",
      "Sample at index 7 is 1.0\n",
      "Sample at index 7 is now 8.0 \n",
      "\n",
      "Counter is: 8\n",
      "Sample at index 8 is 1.0\n",
      "Sample at index 8 is now 9.0 \n",
      "\n",
      "Counter is: 9\n",
      "Sample at index 9 is 1.0\n",
      "Sample at index 9 is now 10.0 \n",
      "\n",
      "[ 1.  2.  3.  4.  5.  6.  7.  8.  9. 10.]\n"
     ]
    }
   ],
   "source": [
    "# ====== CELL 10: Reviewing the Process ======\n",
    "\n",
    "# here we're going to include lots of print statements just to see what's happening\n",
    "\n",
    "sample = np.ones(10) # we changed sample so now let's change it back\n",
    "\n",
    "for counter in range(loopTimes):\n",
    "    print(\"Counter is:\" , counter)\n",
    "    print(\"Sample at index\" , counter , \"is\" , sample[counter])\n",
    "    \n",
    "    print(\"Add\")\n",
    "    sample[counter] += counter # do the addition\n",
    "    print(\"Sample at index\" , counter , \"is now\" , sample[counter] , \"\\n\") # \\n is new line but it must be a string\n",
    "    \n",
    "print(sample)"
   ]
  },
  {
   "cell_type": "markdown",
   "id": "087d9fa1",
   "metadata": {},
   "source": [
    "<br><br><br><br><br><br>\n",
    "\n",
    "#### Activity\n",
    "- Take an array of numbers\n",
    "- Loop through them backwards\n",
    "- Multiply them by their position in the array"
   ]
  },
  {
   "cell_type": "code",
   "execution_count": 11,
   "id": "acad225c",
   "metadata": {},
   "outputs": [],
   "source": [
    "# ====== CELL 11: Activity Setup ======\n",
    "\n",
    "numbers = [5,6,7,8,9]\n",
    "# since 5 is 1st, 6 is 2nd, and so on we should get: [5,12,21,32,45]"
   ]
  },
  {
   "cell_type": "markdown",
   "id": "f5b5787a",
   "metadata": {},
   "source": [
    "<br><br><br><br><br><br>"
   ]
  },
  {
   "cell_type": "code",
   "execution_count": 12,
   "id": "f6ea2737",
   "metadata": {},
   "outputs": [
    {
     "name": "stdout",
     "output_type": "stream",
     "text": [
      "9\n",
      "8\n",
      "7\n",
      "6\n",
      "5\n"
     ]
    }
   ],
   "source": [
    "# ====== CELL 12: Looping Backwards ======\n",
    "\n",
    "# it's actually pretty easy to go backwards\n",
    "# start at the final index of the array\n",
    "# end at the first index of the array\n",
    "# iterate by -1\n",
    "\n",
    "finalIndex = 4\n",
    "firstIndex = 0\n",
    "step = -1\n",
    "\n",
    "for i in range(finalIndex, firstIndex-1, step): # we've changed from counter to i\n",
    "    # we use firstIndex-1 because range does NOT include the \"stop\" value\n",
    "    # and we want the first index to be included\n",
    "    print(numbers[i]) # print the numbers as we loop through them"
   ]
  },
  {
   "cell_type": "markdown",
   "id": "3ef0246e",
   "metadata": {},
   "source": [
    "<br><br><br><br><br><br>"
   ]
  },
  {
   "cell_type": "code",
   "execution_count": 13,
   "id": "bd6f4b87",
   "metadata": {},
   "outputs": [
    {
     "name": "stdout",
     "output_type": "stream",
     "text": [
      "[0, 6, 14, 24, 36]\n"
     ]
    }
   ],
   "source": [
    "# ====== CELL 13: Activity ======\n",
    "\n",
    "# now we know how to loop through the array backwards\n",
    "# we can do the multiplication\n",
    "# just like += adds the thing on the right to the thing on the left\n",
    "# *= multiplies them\n",
    "\n",
    "for i in range(finalIndex, firstIndex-1, step):\n",
    "    numbers[i]*=i\n",
    "\n",
    "print(numbers)"
   ]
  },
  {
   "cell_type": "markdown",
   "id": "28362392",
   "metadata": {},
   "source": [
    "| Long version | Shorthand |\n",
    "|-----|-----|\n",
    "| x = x + y | x += y |\n",
    "| x = x - y | x -= y |\n",
    "| x = x * y | x \\*= y |\n",
    "| x = x / y | x /= y |\n"
   ]
  },
  {
   "cell_type": "code",
   "execution_count": 16,
   "id": "3e7cfa18",
   "metadata": {},
   "outputs": [
    {
     "name": "stdout",
     "output_type": "stream",
     "text": [
      "i is: 4\n",
      "numbers at i is: 9\n",
      "numbers at i is now:  36 \n",
      "\n",
      "i is: 3\n",
      "numbers at i is: 8\n",
      "numbers at i is now:  24 \n",
      "\n",
      "i is: 2\n",
      "numbers at i is: 7\n",
      "numbers at i is now:  14 \n",
      "\n",
      "i is: 1\n",
      "numbers at i is: 6\n",
      "numbers at i is now:  6 \n",
      "\n",
      "i is: 0\n",
      "numbers at i is: 5\n",
      "numbers at i is now:  0 \n",
      "\n"
     ]
    }
   ],
   "source": [
    "# ====== CELL 14: Activity Debugging ======\n",
    "\n",
    "# something went wrong there\n",
    "# we don't want a zero!\n",
    "# what could have happened?\n",
    "\n",
    "# let's try the \"print everything\" method to find out\n",
    "\n",
    "numbers = [5,6,7,8,9] # reset array\n",
    "\n",
    "for i in range(finalIndex, firstIndex-1, step):\n",
    "    print(\"i is:\" , i)\n",
    "    print(\"numbers at i is:\" , numbers[i])\n",
    "    \n",
    "    numbers[i]*=i\n",
    "    print(\"numbers at i is now: \" , numbers[i] , \"\\n\")"
   ]
  },
  {
   "cell_type": "code",
   "execution_count": 17,
   "id": "08beeffd",
   "metadata": {},
   "outputs": [
    {
     "name": "stdout",
     "output_type": "stream",
     "text": [
      "[5, 12, 21, 32, 45]\n"
     ]
    }
   ],
   "source": [
    "# ====== CELL 15: Activity Debugging Cont'd ======\n",
    "\n",
    "# looks like the problem is i isn't what we expect\n",
    "# we need to multiple the number by i+1\n",
    "\n",
    "numbers = [5,6,7,8,9] # reset array\n",
    "\n",
    "for i in range(finalIndex, firstIndex-1, step):\n",
    "    numbers[i]*=i+1\n",
    "\n",
    "print(numbers)"
   ]
  },
  {
   "cell_type": "markdown",
   "id": "0a50893f",
   "metadata": {},
   "source": [
    "<br><br><br><br><br><br><br><br><br>\n",
    "# Timer: 15 mins elapsed\n",
    "### Congratulations, you now know one of the most useful programming concepts"
   ]
  },
  {
   "cell_type": "markdown",
   "id": "976bacd1",
   "metadata": {},
   "source": [
    "<br><br><br><br>\n",
    "## Now we're going to move on to *if statements*\n",
    "\n",
    "The concept is pretty simple:\n",
    "\n",
    "if *this test evaluates to true* then *run this code* otherwise, don't"
   ]
  },
  {
   "cell_type": "markdown",
   "id": "4b3f3829",
   "metadata": {},
   "source": [
    "<br><br><br><br><br>\n",
    "So what is a test?\n",
    "\n",
    "We have a few \"logical operators\" in python:\n",
    "\n",
    "- `==`: does the thing on the left equal the thing on the right\n",
    "- `>`: is the thing on the left greater than the thing on the right\n",
    "- `<`: is the thing on the left less than the thing on the right\n",
    "- `>=`: is the thing on the left greater than or equal to the thing on the right\n",
    "- `<=`: ??\n",
    "<br><br><br>\n",
    "If the answer to the operation is \"yes\" then the operation evaluates to true\n",
    "<br><br><br>"
   ]
  },
  {
   "cell_type": "code",
   "execution_count": 18,
   "id": "c936d339",
   "metadata": {},
   "outputs": [
    {
     "name": "stdout",
     "output_type": "stream",
     "text": [
      "True\n"
     ]
    }
   ],
   "source": [
    "# ====== CELL 16: Equality Operator ======\n",
    "\n",
    "print(5==5)"
   ]
  },
  {
   "cell_type": "code",
   "execution_count": 19,
   "id": "d4fe97e9",
   "metadata": {},
   "outputs": [
    {
     "name": "stdout",
     "output_type": "stream",
     "text": [
      "False\n"
     ]
    }
   ],
   "source": [
    "# ====== CELL 17: Equality Operator & Types ======\n",
    "\n",
    "print(4=='4')"
   ]
  },
  {
   "cell_type": "code",
   "execution_count": null,
   "id": "dfc6c31c",
   "metadata": {},
   "outputs": [],
   "source": [
    "# ====== CELL 18: Logical Operators ======\n",
    "\n",
    "# try devising some of your own tests and put them here"
   ]
  },
  {
   "cell_type": "markdown",
   "id": "c9f28a53",
   "metadata": {},
   "source": [
    "<br><br><br><br><br><br>\n",
    "### Now we're going to try using the if statement"
   ]
  },
  {
   "cell_type": "code",
   "execution_count": 5,
   "id": "f924f5c8",
   "metadata": {},
   "outputs": [
    {
     "name": "stdout",
     "output_type": "stream",
     "text": [
      "5 is less than 10\n"
     ]
    }
   ],
   "source": [
    "# ====== CELL 19: If Example ======\n",
    "\n",
    "firstNumber = 5\n",
    "secondNumber = 10\n",
    "\n",
    "if (firstNumber<secondNumber):\n",
    "    print(firstNumber , \"is less than\" , secondNumber)"
   ]
  },
  {
   "cell_type": "markdown",
   "id": "5145e5f9",
   "metadata": {},
   "source": [
    "<br><br><br><br><br><br>\n",
    "### You can also include an \"else\" this code runs if the if statement evaluates to False"
   ]
  },
  {
   "cell_type": "code",
   "execution_count": 6,
   "id": "27719161",
   "metadata": {},
   "outputs": [
    {
     "name": "stdout",
     "output_type": "stream",
     "text": [
      "5 is less than 10\n"
     ]
    }
   ],
   "source": [
    "# ====== CELL 20: Else Example ======\n",
    "\n",
    "firstNumber = 5\n",
    "bigNumber = 10\n",
    "\n",
    "if (firstNumber<secondNumber):\n",
    "    print(firstNumber , \"is less than\" , secondNumber)\n",
    "else: \n",
    "    print(firstNumber , \"is NOT less than\" , secondNumber)"
   ]
  },
  {
   "cell_type": "markdown",
   "id": "1ad87073",
   "metadata": {},
   "source": [
    "<br><br><br><br><br><br>\n",
    "### One last thing: the else-if (elif) \n",
    "### If the original test fails, this runs another logical test and may run\n",
    "### If the elif fails, we go to the else"
   ]
  },
  {
   "cell_type": "code",
   "execution_count": 7,
   "id": "8c4e542b",
   "metadata": {},
   "outputs": [
    {
     "name": "stdout",
     "output_type": "stream",
     "text": [
      "5 is less than 10\n"
     ]
    }
   ],
   "source": [
    "# ====== CELL 21: Else-If Example ======\n",
    "\n",
    "firstNumber = 5\n",
    "secondNumber = 10\n",
    "\n",
    "if (firstNumber<secondNumber):\n",
    "    print(smallNumber , \"is less than\" , secondNumber)\n",
    "elif (firstNumber==secondNumber):\n",
    "    print(firstNumber , \"=\" , secondNumber)\n",
    "else: \n",
    "    print(firstNumber , \"is NOT less than\" , secondNumber)"
   ]
  },
  {
   "cell_type": "markdown",
   "id": "38cdc9a7",
   "metadata": {},
   "source": [
    "<br><br><br><br><br><br>\n",
    "### You can include as many elifs as you want so long as they are before the else\n",
    "### elifs and elses are optional, you can have just the if "
   ]
  }
 ],
 "metadata": {
  "kernelspec": {
   "display_name": "Python 3",
   "language": "python",
   "name": "python3"
  },
  "language_info": {
   "codemirror_mode": {
    "name": "ipython",
    "version": 3
   },
   "file_extension": ".py",
   "mimetype": "text/x-python",
   "name": "python",
   "nbconvert_exporter": "python",
   "pygments_lexer": "ipython3",
   "version": "3.9.4"
  }
 },
 "nbformat": 4,
 "nbformat_minor": 5
}
