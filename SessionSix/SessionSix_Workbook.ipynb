{
 "cells": [
  {
   "cell_type": "markdown",
   "id": "f5279571",
   "metadata": {},
   "source": [
    "# Curve Fitting\n",
    "\n",
    "## Determining an equation to fit your data\n",
    "\n",
    "Often you know what type of equation you need but not the exact numbers (linear, quadratic, etc.)\n",
    "\n",
    "We're going to use some data I generated and practice fitting"
   ]
  },
  {
   "cell_type": "code",
   "execution_count": null,
   "id": "0b1f8c99",
   "metadata": {},
   "outputs": [],
   "source": [
    "# ====== CELL 1: Setup ======\n",
    "\n",
    "%pip install numpy matplotlib # UNCOMMENT THIS LINE FOR BINDER\n",
    "import numpy as np\n",
    "import matplotlib.pyplot as plt\n",
    "\n",
    "plt.rcParams['figure.figsize'] = 10,8"
   ]
  },
  {
   "cell_type": "markdown",
   "id": "577e25f7",
   "metadata": {},
   "source": [
    "<br><br><br><br><br><br><br><br><br>"
   ]
  },
  {
   "cell_type": "code",
   "execution_count": null,
   "id": "5319e097",
   "metadata": {},
   "outputs": [],
   "source": [
    "# ====== CELL 2: Unpacking the data ======\n",
    "\n"
   ]
  },
  {
   "cell_type": "markdown",
   "id": "8c5476ec",
   "metadata": {},
   "source": [
    "<br><br><br><br><br><br><br><br><br>"
   ]
  },
  {
   "cell_type": "code",
   "execution_count": null,
   "id": "87f2f7f8",
   "metadata": {},
   "outputs": [],
   "source": [
    "# ====== CELL 3: Plotting the Data ======\n",
    "\n"
   ]
  },
  {
   "cell_type": "markdown",
   "id": "d865fa7a",
   "metadata": {},
   "source": [
    "<br><br><br><br><br><br><br><br><br>"
   ]
  },
  {
   "cell_type": "code",
   "execution_count": null,
   "id": "bd437e32",
   "metadata": {},
   "outputs": [],
   "source": [
    "# ====== CELL 4: Defining functions ======\n",
    "\n",
    "# this looks pretty linear\n",
    "# equation is y=mx+b\n",
    "\n",
    "# we need to guess m and b\n",
    "\n",
    "# we already have the x values\n",
    "\n"
   ]
  },
  {
   "cell_type": "markdown",
   "id": "99a1e3c9",
   "metadata": {},
   "source": [
    "<br><br><br><br><br><br><br><br><br>"
   ]
  },
  {
   "cell_type": "code",
   "execution_count": null,
   "id": "c3777da8",
   "metadata": {},
   "outputs": [],
   "source": [
    "# ====== CELL 5: Testing the function ======\n",
    "\n",
    "fake_x = [1,2,3,4]\n",
    "fake_m = 2\n",
    "fake_b = 1\n",
    "\n",
    "# if this works it should give us [2*1+1 , 2*2+1 , 2*3+1 , 2*4+1] = [3, 5, 7, 9]\n",
    "\n"
   ]
  },
  {
   "cell_type": "markdown",
   "id": "339f380f",
   "metadata": {},
   "source": [
    "<br><br><br><br><br><br><br><br><br>"
   ]
  },
  {
   "cell_type": "code",
   "execution_count": null,
   "id": "ff707fd4",
   "metadata": {},
   "outputs": [],
   "source": [
    "# ====== CELL 6: Fit Test 1 ======\n",
    "\n",
    "# let's try out our function and see if we can something to fit our data\n",
    "\n"
   ]
  },
  {
   "cell_type": "code",
   "execution_count": null,
   "id": "2592fac8",
   "metadata": {},
   "outputs": [],
   "source": [
    "# ====== CELL 7: Checking the Fit ======\n",
    "\n",
    "# we want our line to be as close to the data as possible\n",
    "\n",
    "# how will we measure that?\n",
    "\n",
    "# we could add up the differences between the data points and the guess data points\n",
    "\n",
    "# we want this to be as small as possible\n",
    "\n"
   ]
  },
  {
   "cell_type": "markdown",
   "id": "151947c0",
   "metadata": {},
   "source": [
    "<br><br><br><br><br><br><br><br><br>\n",
    "\n",
    "$$ \\chi ^2 = \\frac{\\Sigma\\left(y_i - y_{i \\text{guess}}\\right)^2}{n} $$\n",
    "\n",
    "Take the difference (what we added up above) square it, add all those differences together.\n",
    "\n",
    "Now divide by the number of data points.\n",
    "\n",
    "Does a higher number or a lower number indicate a better fit?"
   ]
  },
  {
   "cell_type": "code",
   "execution_count": null,
   "id": "78e78ecd",
   "metadata": {},
   "outputs": [],
   "source": [
    "# ====== CELL 8: Intro to Chi-Squared ======\n",
    "\n",
    "# a better way is similar but with what's called a chi-squared\n",
    "\n",
    "# we want the chi-squared to be as small as possible\n",
    "\n"
   ]
  },
  {
   "cell_type": "markdown",
   "id": "837d2553",
   "metadata": {},
   "source": [
    "<br><br><br><br><br><br><br><br><br>\n",
    "### We just wrote a lot of code for the plotting and chi-squared\n",
    "### and we're going to need that code again to try a new guess\n",
    "### could we make it into a function so we don't have to write it out?\n",
    "## ABSOLUTELY!"
   ]
  },
  {
   "cell_type": "code",
   "execution_count": null,
   "id": "9054bdfa",
   "metadata": {},
   "outputs": [],
   "source": [
    "# ====== CELL 9: Plotting and Chi-Squared Function ======\n",
    "\n"
   ]
  },
  {
   "cell_type": "markdown",
   "id": "ae0cb7b4",
   "metadata": {},
   "source": [
    "<br><br><br><br><br><br><br><br><br>"
   ]
  },
  {
   "cell_type": "code",
   "execution_count": null,
   "id": "cf7f975c",
   "metadata": {},
   "outputs": [],
   "source": [
    "# ====== CELL 10: Checking the Function ======\n",
    "\n",
    "# let's check the function works by using the same guesses we did before\n"
   ]
  },
  {
   "cell_type": "markdown",
   "id": "3cf73685",
   "metadata": {},
   "source": [
    "<br><br><br><br><br><br><br><br><br>"
   ]
  },
  {
   "cell_type": "code",
   "execution_count": null,
   "id": "ece86dd1",
   "metadata": {},
   "outputs": [],
   "source": [
    "# ====== CELL 11: Second Guess ======\n",
    "\n",
    "# let's try a new guess and see what the chi squared is\n"
   ]
  },
  {
   "cell_type": "markdown",
   "id": "5bca9664",
   "metadata": {},
   "source": [
    "<br><br><br><br><br><br><br><br><br>"
   ]
  },
  {
   "cell_type": "code",
   "execution_count": null,
   "id": "24816dd4",
   "metadata": {},
   "outputs": [],
   "source": [
    "# ====== CELL 12: Intro to SciPy ======\n",
    "\n",
    "# so this was fun but there's actually a tool that does this for us\n",
    "\n",
    "# it will vary m and b and then calculate the chi squared\n",
    "\n",
    "%pip install scipy # UNCOMMENT THIS LINE FOR BINDER\n",
    "import scipy.optimize as optimize"
   ]
  },
  {
   "cell_type": "markdown",
   "id": "e3376b1c",
   "metadata": {},
   "source": [
    "<br><br><br><br><br><br><br><br><br>"
   ]
  },
  {
   "cell_type": "code",
   "execution_count": null,
   "id": "9f0ece51",
   "metadata": {},
   "outputs": [],
   "source": [
    "# ====== CELL 13: Curve Fitting with SciPy ======\n",
    "\n",
    "# results = optimize.curve_fit(function_name, xdata, ydata, sigma=uncertainty, p0=guess)\n",
    "\n"
   ]
  },
  {
   "cell_type": "markdown",
   "id": "06a0494f",
   "metadata": {},
   "source": [
    "<br><br><br><br><br><br><br><br><br>"
   ]
  },
  {
   "cell_type": "code",
   "execution_count": null,
   "id": "fe7354e7",
   "metadata": {},
   "outputs": [],
   "source": [
    "# ====== CELL 14: SciPy Results ======\n",
    "\n",
    "# results gives us a lot of stuff but the important thing is the first element\n",
    "\n"
   ]
  },
  {
   "cell_type": "markdown",
   "id": "004ff78c",
   "metadata": {},
   "source": [
    "<br><br><br><br><br><br><br><br><br>"
   ]
  },
  {
   "cell_type": "code",
   "execution_count": null,
   "id": "eb7631b4",
   "metadata": {},
   "outputs": [],
   "source": [
    "# ====== CELL 15: Testing SciPy Parameters ======\n",
    "\n",
    "# this is the \"guess\" it found to be the best!\n",
    "# let's try it out\n",
    "\n"
   ]
  },
  {
   "cell_type": "markdown",
   "id": "75801201",
   "metadata": {},
   "source": [
    "<br><br><br><br><br><br><br><br><br>"
   ]
  },
  {
   "cell_type": "code",
   "execution_count": null,
   "id": "c2dfe172",
   "metadata": {},
   "outputs": [],
   "source": [
    "# ====== CELL 16: Quadratic Example ======\n",
    "\n",
    "# extra example: quadratics!\n",
    "\n",
    "x,y, yerr = np.loadtxt('example2.txt', delimiter=',', unpack=True)\n",
    "\n",
    "plt.errorbar(x,y,yerr=yerr, fmt='.')\n",
    "plt.show()"
   ]
  },
  {
   "cell_type": "markdown",
   "id": "b42f7ef7",
   "metadata": {},
   "source": [
    "<br><br><br><br><br><br><br><br><br>"
   ]
  },
  {
   "cell_type": "code",
   "execution_count": null,
   "id": "e456a740",
   "metadata": {},
   "outputs": [],
   "source": [
    "# ====== CELL 17: Making the Quadratic Function ======\n",
    "\n",
    "# we'll use scipy again for this but first step for either method is building the function\n",
    "\n"
   ]
  },
  {
   "cell_type": "markdown",
   "id": "d364f6d0",
   "metadata": {},
   "source": [
    "<br><br><br><br><br><br><br><br><br>"
   ]
  },
  {
   "cell_type": "code",
   "execution_count": null,
   "id": "8956349e",
   "metadata": {},
   "outputs": [],
   "source": [
    "# ====== CELL 18: Checking the Quadratic Function ======\n",
    "\n",
    "# let's check this again with some fake data\n",
    "\n",
    "x_fake = [1,2,3,4]\n",
    "\n",
    "a_fake = 1\n",
    "b_fake = 2\n",
    "c_fake = 1\n",
    "\n",
    "# 1: 1*(1**2) + 2*1 + 1 = 1+2+1 = 4\n",
    "# 2: 1*(2**2) + 2*2 + 1 = 4+4+1 = 9\n",
    "# 3: 1*(3**2) + 2*3 + 1 = 9+6+1 = 16\n",
    "# 4: 1*(4**2) + 2*4 + 1 = 16+8+1 = 25\n",
    "\n"
   ]
  },
  {
   "cell_type": "markdown",
   "id": "c78da751",
   "metadata": {},
   "source": [
    "<br><br><br><br><br><br><br><br><br>"
   ]
  },
  {
   "cell_type": "code",
   "execution_count": null,
   "id": "a809d994",
   "metadata": {},
   "outputs": [],
   "source": [
    "# ====== CELL 19: SciPy on Quadratic ======\n",
    "\n",
    "# okay! our function works!\n",
    "\n",
    "# how do we use scipy for this? \n",
    "\n",
    "# results = optimize.curve_fit(function_name, xdata, ydata, sigma=uncertainty, p0=guess)\n",
    "\n"
   ]
  },
  {
   "cell_type": "markdown",
   "id": "a3e0695d",
   "metadata": {},
   "source": [
    "<br><br><br><br><br><br><br><br><br>"
   ]
  },
  {
   "cell_type": "code",
   "execution_count": null,
   "id": "ecd723b4",
   "metadata": {},
   "outputs": [],
   "source": [
    "# ====== CELL 20: Testing SciPy Results ======\n",
    "\n"
   ]
  },
  {
   "cell_type": "markdown",
   "id": "9ed99acd",
   "metadata": {},
   "source": [
    "<br><br><br><br><br><br><br><br><br>"
   ]
  },
  {
   "cell_type": "code",
   "execution_count": null,
   "id": "a1deb717",
   "metadata": {},
   "outputs": [],
   "source": [
    "# ====== CELL 21: Checking Chi-Squared ======\n",
    "\n"
   ]
  }
 ],
 "metadata": {
  "kernelspec": {
   "display_name": "Python 3",
   "language": "python",
   "name": "python3"
  },
  "language_info": {
   "codemirror_mode": {
    "name": "ipython",
    "version": 3
   },
   "file_extension": ".py",
   "mimetype": "text/x-python",
   "name": "python",
   "nbconvert_exporter": "python",
   "pygments_lexer": "ipython3",
   "version": "3.9.4"
  }
 },
 "nbformat": 4,
 "nbformat_minor": 5
}
