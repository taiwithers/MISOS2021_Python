{
 "cells": [
  {
   "cell_type": "markdown",
   "id": "b39827a2",
   "metadata": {},
   "source": [
    "## Coding Concepts\n",
    "\n",
    "This is a Jupyter Notebook\n",
    "\n",
    "In it you can write text like this"
   ]
  },
  {
   "cell_type": "code",
   "execution_count": null,
   "id": "33d7c54f",
   "metadata": {},
   "outputs": [],
   "source": [
    "# And you can also write code like this\n",
    "print(\"This is code!\")"
   ]
  },
  {
   "cell_type": "markdown",
   "id": "325c524a",
   "metadata": {},
   "source": [
    "Run a code cell by clicking on it and then:\n",
    "- pressing \"Run\" in the toolbar\n",
    "- pressing [CTRL] and [ENTER] at the same time or [CMD]\n",
    "- pressing [SHIFT] and [ENTER] at the same time"
   ]
  },
  {
   "cell_type": "markdown",
   "id": "0dadcd51",
   "metadata": {},
   "source": [
    "Add a new cell by clicking on the plus on the toolbar beside the save icon.\n",
    "\n",
    "Automatically the cell will be a code/Python cell.\n",
    "\n",
    "Switch to text by using the dropdown to the right of the toolbar and selecting \"Markdown\""
   ]
  },
  {
   "cell_type": "markdown",
   "id": "5441c605",
   "metadata": {},
   "source": [
    "### Some Important Ideas\n",
    "\n",
    "#### Variables:\n",
    "- These hold data\n",
    "- A bit like a container\n",
    "- They have names and types\n",
    "- More on this later\n",
    "\n",
    "#### Functions:\n",
    "- These *do* things\n",
    "- Usually they do things to variables\n",
    "- Often you tell a function to do *something* to *some variable* and it will give you something back\n",
    "- Like if you give your sister some bread, cheese, and butter and ask her very nicely, she might give you back a grilled cheese\n",
    "\n",
    "#### Comments:\n",
    "- These are *not code*\n",
    "- You write them to explain what the code does\n",
    "- These are really good and you should use lots of them"
   ]
  },
  {
   "cell_type": "markdown",
   "id": "7c50b16e",
   "metadata": {},
   "source": [
    "<br> <br> <br> <br> <br> \n",
    "## Let's do some coding\n",
    "\n",
    "### First an aside about comments...."
   ]
  },
  {
   "cell_type": "code",
   "execution_count": null,
   "id": "1818ec6a",
   "metadata": {},
   "outputs": [],
   "source": [
    "# ====== CELL 1: Comments ======\n",
    "\n",
    "# To write a comment, put a hashtag/pound symbol at the start of the line\n",
    "\n",
    "\"\"\" \n",
    "Or you can use three  quotes\n",
    "Now you can write a long comment\n",
    "Over multiple lines \n",
    "Don't forget to use another three quotes to end the comment \n",
    "\"\"\"\n",
    "\n",
    "''' Apostrophes work too '''\n",
    "\n",
    "# choose a method (# ''' \"\"\") and write your own comment below"
   ]
  },
  {
   "cell_type": "markdown",
   "id": "c1c92d32",
   "metadata": {},
   "source": [
    "<br> <br> <br> <br> <br>\n",
    "\n",
    "### Okay, code for real this time"
   ]
  },
  {
   "cell_type": "code",
   "execution_count": null,
   "id": "3029533f",
   "metadata": {},
   "outputs": [],
   "source": [
    "# ====== CELL 2: Variable Types ======\n",
    "\n",
    "# There are two types of numbers: \n",
    "# - floats (with decimals) \n",
    "# - integers AKA ints (without decimals)\n",
    "\n",
    "# let's make a float, and we'll call it my_floating_point\n",
    "my_floating_point = 3.14\n",
    "\n",
    "# let's make an integer, and we'll call it my_integer\n",
    "my_integer = 5\n",
    "\n",
    "# this is called variable assignment\n",
    "# you write a name, then an equals sign, then the value\n",
    "\n",
    "\n",
    "\n",
    "\n",
    "# Now not all variables are numbers...\n",
    "\n",
    "# This is a character\n",
    "my_character = 'f'\n",
    "\n",
    "# This is a string of characters (a string)\n",
    "my_string = 'string of characters'"
   ]
  },
  {
   "cell_type": "markdown",
   "id": "9ed99e01",
   "metadata": {},
   "source": [
    "## Variable names follow some rules...\n",
    "1. No spaces. Ever.\n",
    "2. No starting with a number.\n",
    "3. Avoid starting with an underscore (_)\n",
    "4. Avoid doing all caps\n",
    "5. Make them relevant \n",
    "\n",
    "### Warning!\n",
    "Don't name your variables \"int\", \"float\", \"char\", or \"str\" (short for string)\n",
    "\n",
    "Why? These are the names of *functions* built into Python and it will get upset that you're trying to use a name that's already in use\n",
    "\n",
    "What do these functions do? They convert a variable's type - if you give something to the \"float\" function, it will try to turn it into a float.\n",
    "\n",
    "We probably won't use these too much, but you have to watch out for them\n",
    "\n",
    "There are lots of other functions built into Python that you will have to avoid when naming variables as well"
   ]
  },
  {
   "cell_type": "code",
   "execution_count": null,
   "id": "19315d3c",
   "metadata": {},
   "outputs": [],
   "source": [
    "# ====== CELL 3: Addition ======\n",
    "\n",
    "# so what can we do with these variables?\n",
    "\n",
    "# we can do math\n",
    "a = 5\n",
    "b = 10\n",
    "a + b"
   ]
  },
  {
   "cell_type": "code",
   "execution_count": null,
   "id": "4f106c64",
   "metadata": {},
   "outputs": [],
   "source": [
    "# ====== CELL 4: Arithmetic ======\n",
    "\n",
    "# uncomment one of these lines to see what the result it\n",
    "# try uncommenting both to see what happens\n",
    "# a * b\n",
    "# a / b"
   ]
  },
  {
   "cell_type": "code",
   "execution_count": null,
   "id": "5ce4a78a",
   "metadata": {},
   "outputs": [],
   "source": [
    "# ====== CELL 5: Printing ======\n",
    "\n",
    "# python only shows you the result of the last operation\n",
    "print(\"This is a string that gets printed\")\n",
    "print(a*b)\n",
    "print(a/b)"
   ]
  },
  {
   "cell_type": "code",
   "execution_count": null,
   "id": "1bd4afbf",
   "metadata": {},
   "outputs": [],
   "source": [
    "# ====== CELL 6: Combined Prints ======\n",
    "\n",
    "# Everything gets printed on its own line\n",
    "# It would be nice to see some context\n",
    "\n",
    "print(\"a*b is\" , a*b)\n",
    "print(\"a/b is\" , a/b)"
   ]
  },
  {
   "cell_type": "code",
   "execution_count": null,
   "id": "e8c52771",
   "metadata": {},
   "outputs": [],
   "source": [
    "# ====== CELL 7: Referencing Variables ======\n",
    "\n",
    "# What if we reference variables *in other variables* ?\n",
    "\n",
    "c = a + b\n",
    "print(\"c:\" , c)\n",
    "\n",
    "print() # extra space please\n",
    "\n",
    "a = 7\n",
    "c = a + b\n",
    "print(\"a:\" , a)\n",
    "print(\"c:\" , c)\n",
    "\n",
    "# what happens if you run this cell twice?"
   ]
  },
  {
   "cell_type": "code",
   "execution_count": null,
   "id": "88415da1",
   "metadata": {},
   "outputs": [],
   "source": [
    "# ====== CELL 8: Going Wild With Math ======\n",
    "\n",
    "# okay let's get funky\n",
    "\n",
    "x = 840\n",
    "z = 73\n",
    "number = 4\n",
    "\n",
    "print( (x*(z+number)) / (number-z) )"
   ]
  },
  {
   "cell_type": "markdown",
   "id": "759c371d",
   "metadata": {},
   "source": [
    "\\begin{equation}\n",
    "\\frac{x * (z + number)}{number - z}\n",
    "\\end{equation}"
   ]
  },
  {
   "cell_type": "code",
   "execution_count": null,
   "id": "7544b703",
   "metadata": {},
   "outputs": [],
   "source": [
    "# ====== CELL 9: Scientific Notation ======\n",
    "\n",
    "# instead of 240 x 10^4 or 3.14 x 10^-6 python uses a shortcut \"e\"\n",
    "print(240e4)\n",
    "\n",
    "# sometimes if the power is negative or there's a lot of zeros it prints out the e\n",
    "# but the number is correct in memory\n",
    "# 0.00000314 = 3.14 x 10^(-6)\n",
    "print(3.14e-6)\n",
    "\n",
    "# try printing 560,000,000 as scientific notation\n",
    "\n",
    "# what about 0.0004\n"
   ]
  },
  {
   "cell_type": "markdown",
   "id": "76e48172",
   "metadata": {},
   "source": [
    "<br><br><br><br><br>\n",
    "## History of the Universe Activity (extended)\n",
    "\n",
    "We are going to write some code to do all that math for us\n",
    "\n",
    "\n",
    "#### The question:\n",
    "\n",
    "- The Big Bang happened 13.7 billion years ago\n",
    "    - 13.7 billion $= 13,700,000,000 = 1.37 \\times 10^{10}$\n",
    "\n",
    "\n",
    "- The first stars were formed 100 million years after the Big Bang\n",
    "    - 100 million $= 100,000,000 = 10^8$\n",
    "\n",
    "\n",
    "- If we shrink the time scale so that the Big Bang happened at midnight and now is 24 hours later at midnight, what time were the first stars formed?\n"
   ]
  },
  {
   "cell_type": "markdown",
   "id": "b9812966",
   "metadata": {},
   "source": [
    "<br><br><br>\n",
    "The first thing we did in the non-coding version was figure out how many hours 100 million years would be.\n",
    "\n",
    "$$ \\frac{10^8}{1.37 \\times 10^{10}} = \\frac{?}{24}$$\n",
    "\n",
    "Rearrange this to get:\n",
    "\n",
    "$$ 24 \\times \\frac{10^8}{1.37 \\times 10^{10}} = ?$$\n",
    "\n",
    "Let's translate that into code!"
   ]
  },
  {
   "cell_type": "code",
   "execution_count": null,
   "id": "0863014d",
   "metadata": {},
   "outputs": [],
   "source": [
    "# make a variable to hold the hours in a day\n",
    "\n",
    "\n",
    "# make a variable that holds the age of the universe\n",
    "\n",
    "\n",
    "# make a variable to hold the time stars formed\n",
    "\n",
    "\n",
    "# now print them all out to make sure you haven't made any mistakes\n",
    "\n",
    "\n"
   ]
  },
  {
   "cell_type": "code",
   "execution_count": null,
   "id": "295184c7",
   "metadata": {},
   "outputs": [],
   "source": [
    "# make a variable that calculates the answer in hours\n",
    "\n",
    "\n",
    "# print out the answer, is it the same as we got in the powerpoint?\n",
    "\n"
   ]
  },
  {
   "cell_type": "markdown",
   "id": "f2f5d8bf",
   "metadata": {},
   "source": [
    "Now we go from hours to minutes\n",
    "\n",
    "$$ \\frac{\\text{hours}}{1} = \\frac{?}{60} \\rightarrow 60\\times \\text{hours} = ?$$"
   ]
  },
  {
   "cell_type": "code",
   "execution_count": null,
   "id": "241a79d2",
   "metadata": {},
   "outputs": [],
   "source": [
    "# make a variable to hold the minutes in an hour\n",
    "\n",
    "\n",
    "# make a variable that calculates the answer in minutes\n",
    "\n",
    "\n",
    "# print out the answer, is it the same as we got in the powerpoint?\n",
    "\n"
   ]
  },
  {
   "cell_type": "markdown",
   "id": "36a62751",
   "metadata": {},
   "source": [
    "<br><br><br><br><br><br>\n",
    "What about some other important dates? Can we calculate the \"time\" of those on this 24 hour universe as well?\n",
    "\n",
    "- Milky Way formation: 300 million years after the Big Bang\n",
    "- Earth formation: 9.2 billion years after the Big Bang\n",
    "- First life on Earth: 10 billion years after the Big Bang\n",
    "- First humans: "
   ]
  },
  {
   "cell_type": "code",
   "execution_count": null,
   "id": "6d3f72ae",
   "metadata": {},
   "outputs": [],
   "source": []
  }
 ],
 "metadata": {
  "kernelspec": {
   "display_name": "Python 3",
   "language": "python",
   "name": "python3"
  },
  "language_info": {
   "codemirror_mode": {
    "name": "ipython",
    "version": 3
   },
   "file_extension": ".py",
   "mimetype": "text/x-python",
   "name": "python",
   "nbconvert_exporter": "python",
   "pygments_lexer": "ipython3",
   "version": "3.9.4"
  }
 },
 "nbformat": 4,
 "nbformat_minor": 5
}
