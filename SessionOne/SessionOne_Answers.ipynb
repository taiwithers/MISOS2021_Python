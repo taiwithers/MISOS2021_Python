{
 "cells": [
  {
   "cell_type": "markdown",
   "id": "b39827a2",
   "metadata": {},
   "source": [
    "## Coding Concepts\n",
    "\n",
    "This is a Jupyter Notebook\n",
    "\n",
    "In it you can write text like this"
   ]
  },
  {
   "cell_type": "code",
   "execution_count": 1,
   "id": "33d7c54f",
   "metadata": {},
   "outputs": [
    {
     "name": "stdout",
     "output_type": "stream",
     "text": [
      "This is code!\n"
     ]
    }
   ],
   "source": [
    "# And you can also write code like this\n",
    "print(\"This is code!\")"
   ]
  },
  {
   "cell_type": "markdown",
   "id": "325c524a",
   "metadata": {},
   "source": [
    "Run a code cell by clicking on it and then:\n",
    "- pressing \"Run\" in the toolbar\n",
    "- pressing and holding [CTRL] and then pressing [ENTER] or use [CMD] if you don't have [CTRL]\n",
    "- pressing and holding [SHIFT] and then pressing [ENTER]"
   ]
  },
  {
   "cell_type": "markdown",
   "id": "5894e575",
   "metadata": {},
   "source": [
    "Add a new cell by clicking on the plus on the toolbar beside the save icon.\n",
    "\n",
    "Automatically the cell will be a code/Python cell.\n",
    "\n",
    "Switch to text by using the dropdown to the right of the toolbar and selecting \"Markdown\""
   ]
  },
  {
   "cell_type": "markdown",
   "id": "5441c605",
   "metadata": {},
   "source": [
    "### Some Important Ideas About Programming\n",
    "\n",
    "#### Variables:\n",
    "- These hold data\n",
    "- A bit like a container\n",
    "- They have names and types\n",
    "- More on this later\n",
    "\n",
    "#### Functions:\n",
    "- These *do* things\n",
    "- Usually they do things to variables\n",
    "- Often you tell a function to do *something* to *some variable* and it will give you something back\n",
    "- Like if you give your sister some bread, cheese, and butter and ask her very nicely, she might give you back a grilled cheese\n",
    "\n",
    "#### Comments:\n",
    "- These are *not code*\n",
    "- You write them to explain what the code does\n",
    "- These are really good and you should use lots of them"
   ]
  },
  {
   "cell_type": "markdown",
   "id": "7c50b16e",
   "metadata": {},
   "source": [
    "<br> <br> <br> <br> <br> \n",
    "## Let's do some coding\n",
    "\n",
    "### First an aside about comments...."
   ]
  },
  {
   "cell_type": "code",
   "execution_count": 2,
   "id": "1818ec6a",
   "metadata": {},
   "outputs": [
    {
     "data": {
      "text/plain": [
       "'This is a commment'"
      ]
     },
     "execution_count": 2,
     "metadata": {},
     "output_type": "execute_result"
    }
   ],
   "source": [
    "# ====== CELL 1: Comments ======\n",
    "\n",
    "# To write a comment, put a hashtag/pound symbol at the start of the line\n",
    "\n",
    "\"\"\" \n",
    "Or you can use three  quotes\n",
    "Now you can write a long comment\n",
    "Over multiple lines \n",
    "Don't forget to use another three quotes to end the comment \n",
    "\"\"\"\n",
    "\n",
    "''' Apostrophes work too '''\n",
    "\n",
    "# choose a method (# ''' \"\"\") and write your own comment below\n",
    "\n",
    "\n",
    "'''This is a commment'''"
   ]
  },
  {
   "cell_type": "markdown",
   "id": "c1c92d32",
   "metadata": {},
   "source": [
    "<br> <br> <br> <br> <br>\n",
    "\n",
    "### Okay, code for real this time"
   ]
  },
  {
   "cell_type": "code",
   "execution_count": 3,
   "id": "3029533f",
   "metadata": {},
   "outputs": [],
   "source": [
    "# ====== CELL 2: Variable Types ======\n",
    "\n",
    "# There are two types of numbers: \n",
    "# - integers or ints (whole numbers, so without a decimal point)\n",
    "# - floats (real numbers, so with a decimal point) \n",
    "\n",
    "# let's make a float, and we'll call it my_floating_point\n",
    "# variables are containers of data on your computer, they need a name\n",
    "# the name is like a label on the mailbox \n",
    "# the computer needs to know which box to look in to find data\n",
    "my_floating_point = 3.14\n",
    "\n",
    "# let's make an integer, and we'll call it my_integer\n",
    "my_integer = 5\n",
    "\n",
    "# this is called variable assignment\n",
    "# you write a name, then an equals sign, then the value\n",
    "\n",
    "\n",
    "\n",
    "\n",
    "# Now not all variables are numbers...\n",
    "\n",
    "# This is a character\n",
    "my_character = 'f'\n",
    "\n",
    "# This is a string of characters (a string)\n",
    "my_string = 'string of characters'"
   ]
  },
  {
   "cell_type": "markdown",
   "id": "9ed99e01",
   "metadata": {},
   "source": [
    "## Variable names follow some rules...\n",
    "1. No spaces. Ever.\n",
    "2. No starting with a number.\n",
    "3. Avoid starting with an underscore (_)\n",
    "4. Avoid doing all caps\n",
    "5. Make them relevant \n",
    "6. Variable names are case sensitive (my_car vs my_Car)\n",
    "\n",
    "### Warning!\n",
    "Don't name your variables \"int\", \"float\", \"char\", or \"str\" (short for string)\n",
    "\n",
    "Why? These are key words that Python already recognizes and it will get upset that you're trying to use a name that's already in use\n",
    "\n",
    "What do these functions do? They convert a variable's type - if you give something to the \"float\" function, it will try to turn it into a float.\n",
    "\n",
    "We probably won't use these too much, but you have to watch out for them\n",
    "\n",
    "There are lots of other functions built into Python that you will have to avoid when naming variables as well"
   ]
  },
  {
   "cell_type": "code",
   "execution_count": 4,
   "id": "19315d3c",
   "metadata": {},
   "outputs": [
    {
     "data": {
      "text/plain": [
       "15"
      ]
     },
     "execution_count": 4,
     "metadata": {},
     "output_type": "execute_result"
    }
   ],
   "source": [
    "# ====== CELL 3: Addition ======\n",
    "\n",
    "# so what can we do with these variables?\n",
    "\n",
    "# we can do math\n",
    "a = 5\n",
    "b = 10\n",
    "a + b"
   ]
  },
  {
   "cell_type": "code",
   "execution_count": 5,
   "id": "4f106c64",
   "metadata": {},
   "outputs": [
    {
     "data": {
      "text/plain": [
       "0.5"
      ]
     },
     "execution_count": 5,
     "metadata": {},
     "output_type": "execute_result"
    }
   ],
   "source": [
    "# ====== CELL 4: Arithmetic ======\n",
    "\n",
    "# uncomment one of these lines to see what the result it\n",
    "# try uncommenting both to see what happens\n",
    "a * b\n",
    "a / b"
   ]
  },
  {
   "cell_type": "code",
   "execution_count": 6,
   "id": "5ce4a78a",
   "metadata": {},
   "outputs": [
    {
     "name": "stdout",
     "output_type": "stream",
     "text": [
      "This is a string that gets printed\n",
      "50\n",
      "0.5\n"
     ]
    }
   ],
   "source": [
    "# ====== CELL 5: Printing ======\n",
    "\n",
    "# python only shows you the result of the last operation\n",
    "# if you want to show specific information you can print it to the screen\n",
    "print(\"This is a string that gets printed\")\n",
    "print(a*b)\n",
    "print(a/b)\n",
    "\n",
    "# this is the first function you've seen\n",
    "# a function has a name: print\n",
    "# and it takes input: whatever you put in the brackets\n",
    "# sometimes that input is called the \"argument\"\n",
    "# giving the argument to the function is called \"passing\"\n",
    "# the print function prints anything passed to it"
   ]
  },
  {
   "cell_type": "code",
   "execution_count": 7,
   "id": "1bd4afbf",
   "metadata": {},
   "outputs": [
    {
     "name": "stdout",
     "output_type": "stream",
     "text": [
      "a*b is 50\n",
      "a/b is 0.5\n"
     ]
    }
   ],
   "source": [
    "# ====== CELL 6: Combined Prints ======\n",
    "\n",
    "# Everything gets printed on its own line\n",
    "# It would be nice to see some context\n",
    "\n",
    "print(\"a*b is\" , a*b)\n",
    "print(\"a/b is\" , a/b)"
   ]
  },
  {
   "cell_type": "code",
   "execution_count": 8,
   "id": "e8c52771",
   "metadata": {},
   "outputs": [
    {
     "name": "stdout",
     "output_type": "stream",
     "text": [
      "c: 15\n",
      "\n",
      "a: 7\n",
      "c: 17\n"
     ]
    }
   ],
   "source": [
    "# ====== CELL 7: Referencing Variables ======\n",
    "\n",
    "# What if we reference variables *in other variables* ?\n",
    "\n",
    "# the equals sign is the \"assignment opperator\"\n",
    "# it takes the name on the right\n",
    "# and assigns that name to the value on the left\n",
    "c = a + b\n",
    "print(\"c:\" , c)\n",
    "\n",
    "print() # extra space please\n",
    "\n",
    "a = 7\n",
    "c = a + b\n",
    "print(\"a:\" , a)\n",
    "print(\"c:\" , c)\n",
    "\n",
    "# what happens if you run this cell twice? why?"
   ]
  },
  {
   "cell_type": "code",
   "execution_count": 9,
   "id": "88415da1",
   "metadata": {},
   "outputs": [
    {
     "name": "stdout",
     "output_type": "stream",
     "text": [
      "-937.3913043478261\n"
     ]
    }
   ],
   "source": [
    "# ====== CELL 8: Going Wild With Math ======\n",
    "\n",
    "# okay let's get funky\n",
    "\n",
    "x = 840\n",
    "z = 73\n",
    "number = 4\n",
    "\n",
    "# by using brackets and print, can you display the answer to the equation below?\n",
    "print( (x*(z+number)) / (number-z) )"
   ]
  },
  {
   "cell_type": "markdown",
   "id": "759c371d",
   "metadata": {},
   "source": [
    "\\begin{equation}\n",
    "\\frac{x * (z + number)}{number - z}\n",
    "\\end{equation}"
   ]
  },
  {
   "cell_type": "code",
   "execution_count": 10,
   "id": "08423fea",
   "metadata": {},
   "outputs": [
    {
     "name": "stdout",
     "output_type": "stream",
     "text": [
      "2400000.0\n",
      "3.14e-06\n",
      "560000000.0\n",
      "0.0004\n"
     ]
    }
   ],
   "source": [
    "# ====== CELL 9: Scientific Notation ======\n",
    "\n",
    "# instead of 240 x 10^4 or 3.14 x 10^-6 python uses a shortcut \"e\"\n",
    "print(240e4)\n",
    "\n",
    "# sometimes if the power is negative or there's a lot of zeros it prints out the e\n",
    "# but the number is correct in memory\n",
    "# 0.00000314 = 3.14 x 10^(-6)\n",
    "print(3.14e-6)\n",
    "\n",
    "# try printing 560,000,000 as scientific notation\n",
    "print(5.6e8)\n",
    "\n",
    "# what about 0.0004\n",
    "print(4e-4)"
   ]
  },
  {
   "cell_type": "markdown",
   "id": "76e48172",
   "metadata": {},
   "source": [
    "<br><br><br><br><br>\n",
    "## History of the Universe Activity (extended)\n",
    "\n",
    "We are going to write some code to do all that math for us\n",
    "\n",
    "\n",
    "#### The question:\n",
    "\n",
    "- The Big Bang happened 13.7 billion years ago\n",
    "    - 13.7 billion $= 13,700,000,000 = 1.37 \\times 10^{10}$\n",
    "\n",
    "\n",
    "- The first stars were formed 100 million years after the Big Bang\n",
    "    - 100 million $= 100,000,000 = 10^8$\n",
    "\n",
    "\n",
    "- If we shrink the time scale so that the Big Bang happened at midnight and now is 24 hours later at midnight, what time were the first stars formed?\n"
   ]
  },
  {
   "cell_type": "markdown",
   "id": "2bf23342",
   "metadata": {},
   "source": [
    "<br><br><br>\n",
    "The first thing we did in the non-coding version was figure out how many hours 100 million years would be.\n",
    "\n",
    "$$ \\frac{10^8}{1.37 \\times 10^{10}} = \\frac{?}{24}$$\n",
    "\n",
    "Rearrange this to get:\n",
    "\n",
    "$$ 24 \\times \\frac{10^8}{1.37 \\times 10^{10}} = ?$$\n",
    "\n",
    "Let's translate that into code!"
   ]
  },
  {
   "cell_type": "code",
   "execution_count": 11,
   "id": "0863014d",
   "metadata": {},
   "outputs": [
    {
     "name": "stdout",
     "output_type": "stream",
     "text": [
      "Hours per day: 24\n",
      "Age of the universe: 13700000000.0\n",
      "Star formation 100000000.0\n"
     ]
    }
   ],
   "source": [
    "# make a variable to hold the hours in a day\n",
    "hours_per_day = 24\n",
    "\n",
    "# make a variable that holds the age of the universe\n",
    "age_of_universe = 1.37e10\n",
    "\n",
    "# make a variable to hold the time stars formed\n",
    "star_formation = 1e8\n",
    "\n",
    "# now print them all out to make sure you haven't made any mistakes\n",
    "print(\"Hours per day:\" , hours_per_day)\n",
    "print(\"Age of the universe:\" , age_of_universe)\n",
    "print(\"Star formation\" , star_formation)"
   ]
  },
  {
   "cell_type": "code",
   "execution_count": 12,
   "id": "447d94cb",
   "metadata": {},
   "outputs": [
    {
     "name": "stdout",
     "output_type": "stream",
     "text": [
      "The stars were formed at  0.17518248175182483 hours\n",
      "This is the same, accounting for rounding\n"
     ]
    }
   ],
   "source": [
    "# make a variable that calculates the answer in hours\n",
    "star_formation_hours = hours_per_day * star_formation / age_of_universe\n",
    "\n",
    "# print out the answer, is it the same as we got in the powerpoint?\n",
    "print(\"The stars were formed at \" , star_formation_hours , \"hours\")\n",
    "print(\"This is the same, accounting for rounding\")"
   ]
  },
  {
   "cell_type": "markdown",
   "id": "da33e3c5",
   "metadata": {},
   "source": [
    "Now we go from hours to minutes\n",
    "\n",
    "$$ \\frac{\\text{hours}}{1} = \\frac{?}{60} \\rightarrow 60\\times \\text{hours} = ?$$"
   ]
  },
  {
   "cell_type": "code",
   "execution_count": 13,
   "id": "56cf6d4c",
   "metadata": {},
   "outputs": [
    {
     "name": "stdout",
     "output_type": "stream",
     "text": [
      "The stars were formed at  10.51094890510949 minutes\n",
      "This is the same, accounting for rounding\n"
     ]
    }
   ],
   "source": [
    "# make a variable to hold the minutes in an hour\n",
    "mins_per_hour = 60\n",
    "\n",
    "# make a variable that calculates the answer in minutes\n",
    "star_formation_mins = mins_per_hour * star_formation_hours\n",
    "\n",
    "# print out the answer, is it the same as we got in the powerpoint?\n",
    "print(\"The stars were formed at \" , star_formation_mins , \"minutes\")\n",
    "print(\"This is the same, accounting for rounding\")"
   ]
  },
  {
   "cell_type": "markdown",
   "id": "35c7aa21",
   "metadata": {},
   "source": [
    "<br><br><br><br><br><br>\n",
    "What about some other important dates? Can we calculate the \"time\" of those on this 24 hour universe as well?\n",
    "\n",
    "- Milky Way formation: 300 million years after the Big Bang\n",
    "- Earth formation: 9.2 billion years after the Big Bang\n",
    "- First life on Earth: 10 billion years after the Big Bang\n",
    "- First humans: 13.698 billion years after the Big Bang\n",
    "\n",
    "You can also try combining the hour and minute steps into one"
   ]
  },
  {
   "cell_type": "code",
   "execution_count": 14,
   "id": "8926a796",
   "metadata": {},
   "outputs": [
    {
     "name": "stdout",
     "output_type": "stream",
     "text": [
      "The Milky Way was formed at  0.5255474452554745 hours\n",
      "The Milky Way was formed at  31.532846715328468 mins\n",
      "\n",
      "The Earth was formed at  967.0072992700731 minutes\n",
      "\n",
      "The first life on Earth appeared at  1051.094890510949 minutes\n",
      "\n",
      "The first humans appeared at  1439.7897810218979 minutes\n"
     ]
    }
   ],
   "source": [
    "milky_way_formation = 3e8\n",
    "earth_formation = 9.2e9\n",
    "first_life = 1e10\n",
    "first_humans = 1.3698e10\n",
    "\n",
    "# Long version: \n",
    "milky_way_hours = hours_per_day * milky_way_formation / age_of_universe\n",
    "print(\"The Milky Way was formed at \" , milky_way_hours , \"hours\")\n",
    "milky_way_mins = mins_per_hour * milky_way_hours\n",
    "print(\"The Milky Way was formed at \" , milky_way_mins , \"mins\")\n",
    "print()\n",
    "\n",
    "# Short version:\n",
    "earth_mins = mins_per_hour * (hours_per_day * earth_formation / age_of_universe)\n",
    "print(\"The Earth was formed at \" , earth_mins , \"minutes\")\n",
    "print()\n",
    "\n",
    "life_mins = mins_per_hour * (hours_per_day * first_life / age_of_universe)\n",
    "print(\"The first life on Earth appeared at \" , life_mins , \"minutes\")\n",
    "print()\n",
    "\n",
    "humans_mins = mins_per_hour * (hours_per_day * first_humans / age_of_universe)\n",
    "print(\"The first humans appeared at \" , humans_mins , \"minutes\")"
   ]
  },
  {
   "cell_type": "markdown",
   "id": "bc38a14e",
   "metadata": {},
   "source": [
    "Clearly for some it would be better to do hours as well."
   ]
  }
 ],
 "metadata": {
  "kernelspec": {
   "display_name": "Python 3",
   "language": "python",
   "name": "python3"
  },
  "language_info": {
   "codemirror_mode": {
    "name": "ipython",
    "version": 3
   },
   "file_extension": ".py",
   "mimetype": "text/x-python",
   "name": "python",
   "nbconvert_exporter": "python",
   "pygments_lexer": "ipython3",
   "version": "3.9.4"
  }
 },
 "nbformat": 4,
 "nbformat_minor": 5
}
