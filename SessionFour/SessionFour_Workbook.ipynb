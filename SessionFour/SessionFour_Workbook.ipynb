{
 "cells": [
  {
   "cell_type": "markdown",
   "id": "58f15d46",
   "metadata": {},
   "source": [
    "# Refresher/Exercise on For and If\n",
    "\n",
    "We are going to write some code to determine if a given number is prime"
   ]
  },
  {
   "cell_type": "markdown",
   "id": "f1c64a05",
   "metadata": {},
   "source": [
    "<br><br><br><br>\n",
    "\n",
    "## Let's start with some psuedocode\n",
    "### We're going to write out in English what we'll later write in code\n",
    "\n",
    "<br><br><br><br>\n",
    "\n",
    "    for every number between 2 and the number we want to check:\n",
    "    \n",
    "        divide the number to check by the iteration number\n",
    "    \n",
    "        if the remainder is 0: then the check number is *not* prime\n",
    "            don't need to check the rest of the iterations\n",
    "        \n",
    "        otherwise: increase the iteration number (continue to the next point in the loop)\n",
    "        "
   ]
  },
  {
   "cell_type": "code",
   "execution_count": null,
   "id": "ef75b532",
   "metadata": {},
   "outputs": [],
   "source": [
    "# ====== CELL 1: Prime Finder ======\n",
    "\n",
    "checkNum = \n",
    "\n",
    "# we'll use a boolean to keep track of whether or not the number is prime\n",
    "isPrime =  # what should our default assumption be?\n",
    "\n"
   ]
  },
  {
   "cell_type": "markdown",
   "id": "900bd195",
   "metadata": {},
   "source": [
    "<br><br><br><br>\n",
    "# Today's Content: Plotting\n",
    "\n",
    "A lot of science involves making graphs and analyzing them! \n",
    "\n",
    "Luckily there's a python package that makes plotting pretty easy"
   ]
  },
  {
   "cell_type": "code",
   "execution_count": null,
   "id": "9eecfd7e",
   "metadata": {},
   "outputs": [],
   "source": [
    "# ====== CELL 2: PyPlot ======\n",
    "\n",
    "# % pip install matplotlib\n",
    "import matplotlib.pyplot as plt\n",
    "\n",
    "# the library we're accessing is actually a sub-library \n",
    "\n",
    "# we're going to call it plt because matplotlib.pyplot is suuuuper long"
   ]
  },
  {
   "cell_type": "markdown",
   "id": "16212da5",
   "metadata": {},
   "source": [
    "<br><br><br><br><br><br>"
   ]
  },
  {
   "cell_type": "code",
   "execution_count": null,
   "id": "210022c9",
   "metadata": {},
   "outputs": [],
   "source": [
    "# ====== CELL 3: NumPy ======\n",
    "\n",
    "# let create some arrays that we'll plot\n",
    "\n",
    "# for an array we need to import numpy\n",
    "\n",
    "# % pip install numpy\n",
    "import numpy as np"
   ]
  },
  {
   "cell_type": "markdown",
   "id": "f8f2b59b",
   "metadata": {},
   "source": [
    "<br><br><br><br><br><br>"
   ]
  },
  {
   "cell_type": "code",
   "execution_count": null,
   "id": "9489591c",
   "metadata": {},
   "outputs": [],
   "source": [
    "# ====== CELL 4: X Data ======\n",
    "\n",
    "# let's go from 0 to 10\n",
    "x_values = \n",
    "print(x_values)"
   ]
  },
  {
   "cell_type": "markdown",
   "id": "ee160f75",
   "metadata": {},
   "source": [
    "<br><br><br><br><br><br>"
   ]
  },
  {
   "cell_type": "code",
   "execution_count": null,
   "id": "ea9ac7f7",
   "metadata": {},
   "outputs": [],
   "source": [
    "# ====== CELL 5: Y Data ======\n",
    "\n",
    "y_values = np.array([0,1,4,9,16,25,36,49,64,81,100])\n",
    "print(y_values)"
   ]
  },
  {
   "cell_type": "markdown",
   "id": "27f7f73c",
   "metadata": {},
   "source": [
    "<br><br><br><br><br><br><br><br><br><br><br><br>"
   ]
  },
  {
   "cell_type": "code",
   "execution_count": null,
   "id": "deb69831",
   "metadata": {},
   "outputs": [],
   "source": [
    "# ====== CELL 6: Plot Basics ======\n",
    "\n",
    "# to make a basic plot we use the \"plot\" command\n",
    "\n",
    "plt.plot()"
   ]
  },
  {
   "cell_type": "markdown",
   "id": "3310e30a",
   "metadata": {},
   "source": [
    "<br><br><br><br><br><br>"
   ]
  },
  {
   "cell_type": "code",
   "execution_count": null,
   "id": "8c4df4a4",
   "metadata": {},
   "outputs": [],
   "source": [
    "# ====== CELL 7: Figure Size Default ======\n",
    "\n",
    "# this is a little small\n",
    "\n",
    "# this line of code changes the default size of the plot\n",
    "\n",
    "plt.rcParams['figure.figsize'] = 14, 8\n",
    "\n",
    "# no need to memorize this piece of code but know that these \"settings\" exist it's just a matter of finding them"
   ]
  },
  {
   "cell_type": "markdown",
   "id": "c8c4237a",
   "metadata": {},
   "source": [
    "<br><br><br><br><br><br>"
   ]
  },
  {
   "cell_type": "code",
   "execution_count": null,
   "id": "8b9cfe2e",
   "metadata": {},
   "outputs": [],
   "source": [
    "# ====== CELL 8: Figure Size Check ======\n",
    "\n",
    "# let's try making that plot again\n",
    "\n",
    "plt.plot(x_values, y_values)\n",
    "plt.show()"
   ]
  },
  {
   "cell_type": "markdown",
   "id": "331efb45",
   "metadata": {},
   "source": [
    "<br><br><br><br><br><br>"
   ]
  },
  {
   "cell_type": "code",
   "execution_count": null,
   "id": "437249ce",
   "metadata": {},
   "outputs": [],
   "source": [
    "# ====== CELL 9: Plot Labels ======\n",
    "\n",
    "plt.plot(x_values, y_values) # make the plot again\n",
    "\n",
    "\n",
    "\n",
    "plt.show()"
   ]
  },
  {
   "cell_type": "markdown",
   "id": "25174587",
   "metadata": {},
   "source": [
    "<br><br><br><br><br><br>"
   ]
  },
  {
   "cell_type": "code",
   "execution_count": null,
   "id": "41292c36",
   "metadata": {},
   "outputs": [],
   "source": [
    "# ====== CELL 10: Multiple Datasets and Legends ======\n",
    "\n",
    "# one more thing: plotting multiple datasets\n",
    "\n",
    "# make another dataset\n",
    "y_values2 = np.array([0,1,8,27,64,125,216,343,512,729,1000])\n",
    "\n"
   ]
  },
  {
   "cell_type": "markdown",
   "id": "fc436aec",
   "metadata": {},
   "source": [
    "<br><br><br><br><br><br>"
   ]
  },
  {
   "cell_type": "markdown",
   "id": "3d6449e9",
   "metadata": {},
   "source": [
    "### Note that even though these look like smooth graphs they're actually just lines connecting points\n",
    "<br><br><br><br><br><br>"
   ]
  },
  {
   "cell_type": "code",
   "execution_count": null,
   "id": "2d272797",
   "metadata": {},
   "outputs": [],
   "source": [
    "# ====== CELL 11: Data Extraction ======\n",
    "\n",
    "# RUN ME\n",
    "# We won't go over this cell in too much detail don't worry about it\n",
    "# We extract the data from a text file and clean it so python can interpret it\n",
    "\n",
    "\n",
    "raw_energy, raw_time = np.loadtxt(\"photon1.txt\", dtype=\"str\",delimiter=\",\", skiprows=1, unpack=True, max_rows=1000)\n",
    "\n",
    "# the numbers come in the format: \"2.980394E+02\"\n",
    "# this converts to the format: 298.0394\n",
    "def cleaner (raw, sd):\n",
    "    clean = [] # initialize\n",
    "    for i in raw:\n",
    "        clean.append(float(i[1:sd]+'e'+i[-2])) # remove quotes, fix e notation\n",
    "    return np.array(clean)\n",
    "   \n",
    "# these are the arrays we'll be using!\n",
    "energy = cleaner(raw_energy,7)\n",
    "time = cleaner(raw_time,14)"
   ]
  },
  {
   "cell_type": "markdown",
   "id": "99660021",
   "metadata": {},
   "source": [
    "<br><br><br><br><br><br>"
   ]
  },
  {
   "cell_type": "code",
   "execution_count": null,
   "id": "a9971666",
   "metadata": {},
   "outputs": [],
   "source": [
    "# ====== CELL 12: Plotting Blazar Data ======"
   ]
  }
 ],
 "metadata": {
  "kernelspec": {
   "display_name": "Python 3",
   "language": "python",
   "name": "python3"
  },
  "language_info": {
   "codemirror_mode": {
    "name": "ipython",
    "version": 3
   },
   "file_extension": ".py",
   "mimetype": "text/x-python",
   "name": "python",
   "nbconvert_exporter": "python",
   "pygments_lexer": "ipython3",
   "version": "3.9.4"
  }
 },
 "nbformat": 4,
 "nbformat_minor": 5
}
